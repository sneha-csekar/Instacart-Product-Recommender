{
 "cells": [
  {
   "cell_type": "markdown",
   "id": "bc8feaa2",
   "metadata": {},
   "source": [
    "# Exploratory Data Analysis (EDA) of Instacart data"
   ]
  },
  {
   "cell_type": "markdown",
   "id": "95ac6321",
   "metadata": {},
   "source": [
    "## <u>Executive Summary</u>\n",
    "\n",
    "<b>Data:</b>\n",
    "- There are a total of 206,209 users in the dataset.\n",
    "- Their past orders are given in evaluation set: 'prior' which amounts to 3,214,874 orders.\n",
    "- Out of the total 206k users, the next order details for 131,209 of them are given in evaluation set: 'train' while the next order details for the remaining 75,000 denoted by evaluation set: 'test' need to be predicted.\n",
    "\n",
    "<b>Understanding Prior orders</b>:\n",
    "- Count of orders per user ranges from 3 to 99, however the distribution is right skewed.\n",
    "- In spite of this huge range, 50% of the users have placed only 9 orders in the past (median value).\n",
    "- Only one quarter of the users have placed >= 20 orders.  \n",
    "<br>\n",
    "- 10 AM to 4 PM is the busiest time in a day garnering high volume of orders in this time period.\n",
    "- In a week, maximum number of orders are placed on Saturday and Sunday.\n",
    "- Peak number of orders are placed at Saturday 2 PM and Sunday 10 AM.\n",
    "<br>\n",
    "- Maximum number of orders are placed at an interval (shop gap) of one week (7 days) or one month (30 days) from the previous order. Compared to the total number of orders placed, Weekly and Monthly orders amount to 11% each.\n",
    "- Approx two-thirds (64%) of all the orders are placed at a shop gap of 10 days or less.\n",
    "- Though 64% of all the orders have been placed at a shopgap of 10 days or less from the prior order, average shop gap at user level is more dispersed. Around half of our customer base has an average shop gap of 14.7 days.\n",
    "- High proportion of the users are weekly and monthly shoppers (~ 5% of the customer base respectively). In addition, a large portion of users are in the average shop gap range of 8 to 15 (~40% of the entire customer base). \n",
    "- <b><i>The time range between 7 to 15 days would  an ideal time to send shopping reminders to users to activate shopping behavior </i></b>.\n",
    "<br>\n",
    "\n",
    "- Basket size ranges from 1 to 145 in terms of the number of unique products. 50% of all the orders have more than 8 products in them.\n",
    
    "- Half of our customer base have an average basket size of 9 products or more.\n",
    "- Orders placed with a shop gap of more than 4 days have an average basket size of above 10 products.\n",
    "<br>\n",
    "\n",
    "- Approximately 9% of all the products in the inventory have never been reordered by the same customer.\n",
    
    "- On an average, 63% of every basket consists of products that have been reorderd by the customer (excluding the baskets corresponding to first shop of a customer with Instacart).\n",
    "- <b><i>94% of all orders (excluding first shops of customers) have at least one reordered product in them.</i></b>\n",
    "- Excluding the first shops of customers, about a quarter (23.1%) of the orders have all products being reordered by the corresponding customer.\n"
   ]
  },
  {
   "cell_type": "markdown",
   "id": "e6e580ef",
   "metadata": {},
   "source": [
    "## <u>Part I. Loading the datasets</u>"
   ]
  },
  {
   "cell_type": "code",
   "execution_count": null,
   "id": "8e74c00a",
   "metadata": {},
   "outputs": [],
   "source": [
    "import numpy as np\n",
    "import pandas as pd\n",
    "import matplotlib.pyplot as plt\n",
    "import seaborn as sns\n",
    "import datetime\n",
    "import random\n",
    "from IPython.display import display\n",
    "\n",
    "pd.options.mode.chained_assignment = None\n",
    "\n",
    "%matplotlib inline\n",
    "cmap_colors = sns.cubehelix_palette(start=.5, rot=-.5, as_cmap=True)\n",
    "\n",
    "# define the fig size of all figures\n",
    "plt.rcParams[\"figure.figsize\"] = (10,10)"
   ]
  },
  {
   "cell_type": "code",
   "execution_count": null,
   "id": "605b0086",
   "metadata": {},
   "outputs": [],
   "source": [
    "import os\n",
    "wd = os.getcwd()\n",
    "os.chdir('..')\n",
    "new_wd = os.getcwd()\n",
    "\n",
    "data_directory_path = new_wd + '\\Data'"
   ]
  },
  {
   "cell_type": "code",
   "execution_count": null,
   "id": "0394801d",
   "metadata": {},
   "outputs": [],
   "source": [
    "# Converting the days and hours from numbers to their interpretable form\n",
    "days_of_week = {0: 'Saturday', \n",
    "                1: 'Sunday', \n",
    "                2: 'Monday',\n",
    "                3: 'Tuesday',\n",
    "                4: 'Wednesday',\n",
    "                5: 'Thursday',\n",
    "                6: 'Friday'}\n",
    "hour_nums = list(range(24))\n",
    "hours_of_day = {hour_num:datetime.time(hour_num).strftime(\"%I:00 %p\") for hour_num in hour_nums}"
   ]
  },
  {
   "cell_type": "code",
   "execution_count": null,
   "id": "0e8946ac",
   "metadata": {},
   "outputs": [],
   "source": [
    "def reduce_mem_usage(train_data):\n",
    "    start_mem = train_data.memory_usage().sum() / 1024**2\n",
    "    print('Memory usage of dataframe is {:.2f} MB'.format(start_mem))\n",
    "\n",
    "    for col in train_data.columns:\n",
    "        col_type = train_data[col].dtype\n",
    "        \n",
    "        if col_type not in [object, 'category']:\n",
    "            c_min = train_data[col].min()\n",
    "            c_max = train_data[col].max()\n",
    "            if str(col_type)[:3] == 'int':\n",
    "                if c_min > np.iinfo(np.int8).min and c_max < np.iinfo(np.int8).max:\n",
    "                    train_data[col] = train_data[col].astype(np.int8)\n",
    "                elif c_min > np.iinfo(np.int16).min and c_max < np.iinfo(np.int16).max:\n",
    "                    train_data[col] = train_data[col].astype(np.int16)\n",
    "                elif c_min > np.iinfo(np.int32).min and c_max < np.iinfo(np.int32).max:\n",
    "                    train_data[col] = train_data[col].astype(np.int32)\n",
    "                elif c_min > np.iinfo(np.int64).min and c_max < np.iinfo(np.int64).max:\n",
    "                    train_data[col] = train_data[col].astype(np.int64)  \n",
    "            else:\n",
    "                if c_min > np.finfo(np.float16).min and c_max < np.finfo(np.float16).max:\n",
    "                    train_data[col] = train_data[col].astype(np.float16)\n",
    "                elif c_min > np.finfo(np.float32).min and c_max < np.finfo(np.float32).max:\n",
    "                    train_data[col] = train_data[col].astype(np.float32)\n",
    "                else:\n",
    "                    train_data[col] = train_data[col].astype(np.float64)\n",
    "        else:\n",
    "            train_data[col] = train_data[col].astype('category')\n",
    "    end_mem = train_data.memory_usage().sum() / 1024**2\n",
    "    print('Memory usage after optimization is: {:.2f} MB'.format(end_mem))\n",
    "    print('Decreased by {:.1f}%'.format(100 * (start_mem - end_mem) / start_mem))\n",
    "\n",
    "    return train_data\n",
    "\n",
    "# Annotate text on graph\n",
    "def annotate_text(p, append_to_text='%'):\n",
    "    for p in ax.patches:\n",
    "        txt = str(p.get_height().round(2)) + append_to_text\n",
    "        txt_x = p.get_x() + p.get_width()/2.\n",
    "        txt_y = 0.92*p.get_height()\n",
    "        ax.text(txt_x,txt_y,txt, fontsize=20, color='#004235', ha='center', va='bottom')"
   ]
  },
  {
   "cell_type": "code",
   "execution_count": null,
   "id": "08dad571",
   "metadata": {},
   "outputs": [],
   "source": [
    "aisles = pd.read_csv(data_directory_path + r'\\aisles.csv')\n",
    "aisles = reduce_mem_usage(aisles)\n",
    "\n",
    "departments = pd.read_csv(data_directory_path + r'\\departments.csv')\n",
    "departments = reduce_mem_usage(departments)\n",
    "\n",
    "order_products_prior = pd.read_csv(data_directory_path + r'\\order_products__prior.csv')\n",
    "order_products_prior = reduce_mem_usage(order_products_prior)\n",
    "\n",
    "order_products_train = pd.read_csv(data_directory_path + r'\\order_products__train.csv')\n",
    "order_products_train = reduce_mem_usage(order_products_train)\n",
    "\n",
    "orders = pd.read_csv(data_directory_path + r'\\orders.csv')\n",
    "\n",
    "# Replacing numbers with their corresponding hour representation\n",
    "orders['order_hour_of_day'] = orders['order_hour_of_day'].replace(hours_of_day)\n",
    "orders['order_hour_of_day'] = pd.Categorical(orders['order_hour_of_day'], ordered=True, categories=list(hours_of_day.values()))\n",
    "# Replacing numbers with their corresponding day of week\n",
    "# Define the categories of days of week sorted normally from Saturday to Friday\n",
    "orders['order_dow'] = orders['order_dow'].replace(days_of_week)\n",
    "orders['order_dow'] = pd.Categorical(orders['order_dow'], ordered=True, categories=list(days_of_week.values()))\n",
    "orders = reduce_mem_usage(orders)\n",
    "\n",
    "products = pd.read_csv(data_directory_path + r'\\products.csv')\n",
    "products = reduce_mem_usage(products)"
   ]
  },
  {
   "cell_type": "markdown",
   "id": "22abd2b9",
   "metadata": {},
   "source": [
    "## <u>Part II. Understanding the data</u>"
   ]
  },
  {
   "cell_type": "code",
   "execution_count": null,
   "id": "e23ea95f",
   "metadata": {},
   "outputs": [],
   "source": [
    "df_list = %who_ls DataFrame\n",
    "for df in df_list:\n",
    "    print(\"================\\n\")\n",
    "    print('Shape of ', df,' dataset: ', eval(df).shape)\n",
    "    print(eval(df).info(), '\\n')"
   ]
  },
  {
   "cell_type": "code",
   "execution_count": 7,
   "id": "16b10374",
   "metadata": {},
   "outputs": [
    {
     "data": {
      "image/png": "[encoded data removed]",
      "text/plain": [
       "<Figure size 360x360 with 1 Axes>"
      ]
     },
     "metadata": {
      "needs_background": "light"
     },
     "output_type": "display_data"
    }
   ],
   "source": [
    "# Count of orders in prior, train and test evaluation set\n",
    "plt.figure(figsize = (5,5))\n",
    "p = sns.countplot(data = orders, x = 'eval_set', color = 'darkorange')\n",
    "for i in p.containers:\n",
    "    p.bar_label(i, fmt = '%d')\n"
   ]
  },
  {
   "cell_type": "code",
   "execution_count": 8,
   "id": "16a5382b",
   "metadata": {},
   "outputs": [
    {
     "name": "stdout",
     "output_type": "stream",
     "text": [
      "Count of unqiue orders in each set: \n",
      "   eval_set  order_id\n",
      "0    prior   3214874\n",
      "1     test     75000\n",
      "2    train    131209\n"
     ]
    }
   ],
   "source": [
    "# Count of unique orders \n",
    "counts_orders = orders.groupby(['eval_set'], as_index=False).agg({\"order_id\":pd.Series.nunique})\n",
    "print(\"Count of unqiue orders in each set: \\n\", counts_orders)\n",
    "del counts_orders"
   ]
  },
  {
   "cell_type": "code",
   "execution_count": 9,
   "id": "59648b4c",
   "metadata": {},
   "outputs": [
    {
     "name": "stdout",
     "output_type": "stream",
     "text": [
      "Count of total unique users:  206209\n",
      "  eval_set  count_users\n",
      "0    prior       206209\n",
      "1     test        75000\n",
      "2    train       131209\n"
     ]
    }
   ],
   "source": [
    "# Count of unique users\n",
    "print(\"Count of total unique users: \",orders['user_id'].nunique())\n",
    "\n",
    "count_users = orders.groupby(['eval_set'], as_index=False).agg({\"user_id\":pd.Series.nunique}).rename(columns={'user_id':'count_users'})\n",
    "print(count_users)\n",
    "del count_users"
   ]
  },
  {
   "cell_type": "markdown",
   "id": "a1f838a7",
   "metadata": {},
   "source": [
    "#### <u>Findings</u>:\n",
    "- There are a total of 206,209 users in the dataset.\n",
    "- Their past orders are given in evaluation set: 'prior' which amounts to 3,214,874 orders.\n",
    "- Out of the total 206k users, the next order details for 131,209 of them are given in evaluation set: 'train' while the next order details for the remaining 75,000 denoted by evaluation set: 'test' need to be predicted. "
   ]
  },
  {
   "cell_type": "markdown",
   "id": "dc31ac98",
   "metadata": {},
   "source": [
    "## <u>Part III. Data Preparation</u>"
   ]
  },
  {
   "cell_type": "code",
   "execution_count": 10,
   "id": "d4256930",
   "metadata": {},
   "outputs": [],
   "source": [
    "# Combining prior and train order sets\n",
    "# Joining with orders, products, departments and aisles to collate all information \n",
    "\n",
    "order_details_prior = order_products_prior.merge(orders, on='order_id', how='left').merge(products, on='product_id', how='left').merge(departments, on='department_id').merge(aisles, on='aisle_id')"
   ]
  },
  {
   "cell_type": "code",
   "execution_count": 11,
   "id": "36309488",
   "metadata": {},
   "outputs": [
    {
     "name": "stdout",
     "output_type": "stream",
     "text": [
      "(32434489, 15)\n"
     ]
    },
    {
     "data": {
      "text/html": [
       "<div>\n",
       "<style scoped>\n",
       "    .dataframe tbody tr th:only-of-type {\n",
       "        vertical-align: middle;\n",
       "    }\n",
       "\n",
       "    .dataframe tbody tr th {\n",
       "        vertical-align: top;\n",
       "    }\n",
       "\n",
       "    .dataframe thead th {\n",
       "        text-align: right;\n",
       "    }\n",
       "</style>\n",
       "<table border=\"1\" class=\"dataframe\">\n",
       "  <thead>\n",
       "    <tr style=\"text-align: right;\">\n",
       "      <th></th>\n",
       "      <th>order_id</th>\n",
       "      <th>product_id</th>\n",
       "      <th>add_to_cart_order</th>\n",
       "      <th>reordered</th>\n",
       "      <th>user_id</th>\n",
       "      <th>eval_set</th>\n",
       "      <th>order_number</th>\n",
       "      <th>order_dow</th>\n",
       "      <th>order_hour_of_day</th>\n",
       "      <th>days_since_prior_order</th>\n",
       "      <th>product_name</th>\n",
       "      <th>aisle_id</th>\n",
       "      <th>department_id</th>\n",
       "      <th>department</th>\n",
       "      <th>aisle</th>\n",
       "    </tr>\n",
       "  </thead>\n",
       "  <tbody>\n",
       "    <tr>\n",
       "      <th>0</th>\n",
       "      <td>2</td>\n",
       "      <td>33120</td>\n",
       "      <td>1</td>\n",
       "      <td>1</td>\n",
       "      <td>202279</td>\n",
       "      <td>prior</td>\n",
       "      <td>3</td>\n",
       "      <td>Thursday</td>\n",
       "      <td>09:00 AM</td>\n",
       "      <td>8.0</td>\n",
       "      <td>Organic Egg Whites</td>\n",
       "      <td>86</td>\n",
       "      <td>16</td>\n",
       "      <td>dairy eggs</td>\n",
       "      <td>eggs</td>\n",
       "    </tr>\n",
       "    <tr>\n",
       "      <th>1</th>\n",
       "      <td>22</td>\n",
       "      <td>23341</td>\n",
       "      <td>6</td>\n",
       "      <td>1</td>\n",
       "      <td>30822</td>\n",
       "      <td>prior</td>\n",
       "      <td>25</td>\n",
       "      <td>Sunday</td>\n",
       "      <td>08:00 AM</td>\n",
       "      <td>12.0</td>\n",
       "      <td>Large Grade AA Eggs</td>\n",
       "      <td>86</td>\n",
       "      <td>16</td>\n",
       "      <td>dairy eggs</td>\n",
       "      <td>eggs</td>\n",
       "    </tr>\n",
       "    <tr>\n",
       "      <th>2</th>\n",
       "      <td>25</td>\n",
       "      <td>6383</td>\n",
       "      <td>7</td>\n",
       "      <td>1</td>\n",
       "      <td>59897</td>\n",
       "      <td>prior</td>\n",
       "      <td>19</td>\n",
       "      <td>Friday</td>\n",
       "      <td>10:00 AM</td>\n",
       "      <td>25.0</td>\n",
       "      <td>All Whites 100% Egg Whites</td>\n",
       "      <td>86</td>\n",
       "      <td>16</td>\n",
       "      <td>dairy eggs</td>\n",
       "      <td>eggs</td>\n",
       "    </tr>\n",
       "    <tr>\n",
       "      <th>3</th>\n",
       "      <td>26</td>\n",
       "      <td>33120</td>\n",
       "      <td>5</td>\n",
       "      <td>0</td>\n",
       "      <td>153404</td>\n",
       "      <td>prior</td>\n",
       "      <td>2</td>\n",
       "      <td>Saturday</td>\n",
       "      <td>04:00 PM</td>\n",
       "      <td>7.0</td>\n",
       "      <td>Organic Egg Whites</td>\n",
       "      <td>86</td>\n",
       "      <td>16</td>\n",
       "      <td>dairy eggs</td>\n",
       "      <td>eggs</td>\n",
       "    </tr>\n",
       "    <tr>\n",
       "      <th>4</th>\n",
       "      <td>55</td>\n",
       "      <td>11520</td>\n",
       "      <td>12</td>\n",
       "      <td>0</td>\n",
       "      <td>127522</td>\n",
       "      <td>prior</td>\n",
       "      <td>8</td>\n",
       "      <td>Wednesday</td>\n",
       "      <td>02:00 PM</td>\n",
       "      <td>5.0</td>\n",
       "      <td>Large Alfresco Eggs</td>\n",
       "      <td>86</td>\n",
       "      <td>16</td>\n",
       "      <td>dairy eggs</td>\n",
       "      <td>eggs</td>\n",
       "    </tr>\n",
       "  </tbody>\n",
       "</table>\n",
       "</div>"
      ],
      "text/plain": [
       "   order_id  product_id  add_to_cart_order  reordered  user_id eval_set  \\\n",
       "0         2       33120                  1          1   202279    prior   \n",
       "1        22       23341                  6          1    30822    prior   \n",
       "2        25        6383                  7          1    59897    prior   \n",
       "3        26       33120                  5          0   153404    prior   \n",
       "4        55       11520                 12          0   127522    prior   \n",
       "\n",
       "   order_number  order_dow order_hour_of_day  days_since_prior_order  \\\n",
       "0             3   Thursday          09:00 AM                     8.0   \n",
       "1            25     Sunday          08:00 AM                    12.0   \n",
       "2            19     Friday          10:00 AM                    25.0   \n",
       "3             2   Saturday          04:00 PM                     7.0   \n",
       "4             8  Wednesday          02:00 PM                     5.0   \n",
       "\n",
       "                 product_name  aisle_id  department_id  department aisle  \n",
       "0          Organic Egg Whites        86             16  dairy eggs  eggs  \n",
       "1         Large Grade AA Eggs        86             16  dairy eggs  eggs  \n",
       "2  All Whites 100% Egg Whites        86             16  dairy eggs  eggs  \n",
       "3          Organic Egg Whites        86             16  dairy eggs  eggs  \n",
       "4         Large Alfresco Eggs        86             16  dairy eggs  eggs  "
      ]
     },
     "execution_count": 11,
     "metadata": {},
     "output_type": "execute_result"
    }
   ],
   "source": [
    "print(order_details_prior.shape)\n",
    "order_details_prior.head()"
   ]
  },
  {
   "cell_type": "code",
   "execution_count": 12,
   "id": "b063c6fa",
   "metadata": {},
   "outputs": [
    {
     "data": {
      "text/plain": [
       "Index(['order_id', 'product_id', 'add_to_cart_order', 'reordered', 'user_id',\n",
       "       'eval_set', 'order_number', 'order_dow', 'order_hour_of_day',\n",
       "       'days_since_prior_order', 'product_name', 'aisle_id', 'department_id',\n",
       "       'department', 'aisle'],\n",
       "      dtype='object')"
      ]
     },
     "execution_count": 12,
     "metadata": {},
     "output_type": "execute_result"
    }
   ],
   "source": [
    "# Columns in the combined dataset\n",
    "order_details_prior.columns"
   ]
  },
  {
   "cell_type": "markdown",
   "id": "809e3ca0",
   "metadata": {},
   "source": [
    "## <u>Part IV. Exploratory Data Analysis (EDA)</u>"
   ]
  },
  {
   "cell_type": "markdown",
   "id": "7d67cc5f",
   "metadata": {},
   "source": [
    "### <u>Understanding Orders per User</u>"
   ]
  },
  {
   "cell_type": "code",
   "execution_count": 13,
   "id": "eef9e5be",
   "metadata": {},
   "outputs": [
    {
     "data": {
      "text/plain": [
       "count    206209.000000\n",
       "mean         15.590367\n",
       "std          16.654774\n",
       "min           3.000000\n",
       "25%           5.000000\n",
       "50%           9.000000\n",
       "75%          19.000000\n",
       "max          99.000000\n",
       "Name: order_counts, dtype: float64"
      ]
     },
     "execution_count": 13,
     "metadata": {},
     "output_type": "execute_result"
    }
   ],
   "source": [
    "df_orders_user_counts = order_details_prior.groupby(['user_id'], as_index=False).agg({\"order_id\":pd.Series.nunique}).rename(columns={'order_id':'order_counts'})\n",
    "df_orders_user_counts['order_counts'].describe()"
   ]
  },
  {
   "cell_type": "code",
   "execution_count": 14,
   "id": "2535bb13",
   "metadata": {},
   "outputs": [
    {
     "data": {
      "image/png": "[encoded data removed]",
      "text/plain": [
       "<Figure size 1440x720 with 1 Axes>"
      ]
     },
     "metadata": {
      "needs_background": "light"
     },
     "output_type": "display_data"
    }
   ],
   "source": [
    "plt.figure(figsize=(20,10))\n",
    "sns.countplot(x = 'order_counts', data = df_orders_user_counts, color = 'darkorange')\n",
    "plt.xlabel('Count of orders per user')\n",
    "plt.ylabel('Number of occurences')\n",
    "plt.title('Distribution of count of orders per user')\n",
    "plt.show()\n",
    "\n",
    "del df_orders_user_counts"
   ]
  },
  {
   "cell_type": "markdown",
   "id": "3074ffa4",
   "metadata": {},
   "source": [
    "#### <u>Findings</u>:\n",
    "- Count of orders per user ranges from 3 to 99, however the distribution is right skewed.\n",
    "- In spite of this huge range, 50% of the users have placed only 9 orders (median value).\n",
    "- Only one quarter of the users have placed >= 20 orders."
   ]
  },
  {
   "cell_type": "markdown",
   "id": "037dbdbc",
   "metadata": {},
   "source": [
    "### <u>Understanding Order placement by Day of Week and Time of Day</u>"
   ]
  },
  {
   "cell_type": "code",
   "execution_count": 15,
   "id": "cb714bd3",
   "metadata": {},
   "outputs": [],
   "source": [
    "df_orders_dow_counts = order_details_prior.groupby(['order_dow'], as_index=False).agg({\"order_id\":pd.Series.nunique}).rename(columns={'order_id':'order_counts'})"
   ]
  },
  {
   "cell_type": "code",
   "execution_count": 16,
   "id": "8f343b31",
   "metadata": {},
   "outputs": [
    {
     "data": {
      "image/png": "[encoded data removed]",
      "text/plain": [
       "<Figure size 720x720 with 1 Axes>"
      ]
     },
     "metadata": {
      "needs_background": "light"
     },
     "output_type": "display_data"
    }
   ],
   "source": [
    "sns.barplot(x = 'order_dow', y = 'order_counts', data = df_orders_dow_counts, color = 'darkorange')\n",
    "plt.xlabel('Day of Week')\n",
    "plt.ylabel('Number of orders')\n",
    "plt.title('Number of orders in each day of the week')\n",
    "plt.show()\n",
    "\n",
    "del df_orders_dow_counts"
   ]
  },
  {
   "cell_type": "code",
   "execution_count": 17,
   "id": "df25e364",
   "metadata": {},
   "outputs": [],
   "source": [
    "df_orders_hod_counts = order_details_prior.groupby(['order_hour_of_day'], as_index=False).agg({\"order_id\":pd.Series.nunique}).rename(columns={'order_id':'order_counts'})"
   ]
  },
  {
   "cell_type": "code",
   "execution_count": 18,
   "id": "0c07681b",
   "metadata": {},
   "outputs": [
    {
     "data": {
      "image/png": "[encoded data removed]",
      "text/plain": [
       "<Figure size 1800x720 with 1 Axes>"
      ]
     },
     "metadata": {
      "needs_background": "light"
     },
     "output_type": "display_data"
    }
   ],
   "source": [
    "plt.figure(figsize=(25,10))\n",
    "sns.barplot(x = 'order_hour_of_day', y = 'order_counts', data = df_orders_hod_counts, color = 'darkorange')\n",
    "plt.xlabel('Hour of Day')\n",
    "plt.ylabel('Number of orders')\n",
    "plt.title('Number of orders in each hour of the day')\n",
    "plt.show()\n",
    "\n",
    "del df_orders_hod_counts"
   ]
  },
  {
   "cell_type": "code",
   "execution_count": 19,
   "id": "713432ce",
   "metadata": {},
   "outputs": [],
   "source": [
    "df_orders_dow_hod_counts = order_details_prior.groupby(['order_dow','order_hour_of_day'], as_index=False).agg({\"order_id\":pd.Series.nunique}).rename(columns={'order_id':'order_counts'})\n",
    "heatmap_data = df_orders_dow_hod_counts.pivot( 'order_hour_of_day','order_dow', 'order_counts')"
   ]
  },
  {
   "cell_type": "code",
   "execution_count": 20,
   "id": "0ac55c54",
   "metadata": {},
   "outputs": [
    {
     "data": {
      "image/png": "[encoded data removed]",
      "text/plain": [
       "<Figure size 720x720 with 2 Axes>"
      ]
     },
     "metadata": {
      "needs_background": "light"
     },
     "output_type": "display_data"
    }
   ],
   "source": [
    "ax = sns.heatmap(data=heatmap_data, cmap=\"YlGnBu\", linewidths=.5)\n",
    "plt.title('Frequency of orders per each day and hour')\n",
    "plt.ylabel('Hour of day')\n",
    "plt.xlabel('Day of week')\n",
    "plt.show()\n",
    "\n",
    "del df_orders_dow_hod_counts\n",
    "del heatmap_data"
   ]
  },
  {
   "cell_type": "markdown",
   "id": "9996ce91",
   "metadata": {},
   "source": [
    "#### <u>Findings</u>:\n",
    " - 10 AM to 4 PM are the busiest hours in a day garnering high volume of orders in this time period.\n",
    " - In a general week, maximum number of orders are placed on Saturday and Sunday.\n",
    " - Peak number of orders are placed at Saturday 2 PM and Sunday 10 AM."
   ]
  },
  {
   "cell_type": "markdown",
   "id": "44b130f9",
   "metadata": {},
   "source": [
    "### <u>Understanding shop gap between orders</u>"
   ]
  },
  {
   "cell_type": "code",
   "execution_count": 21,
   "id": "894f0168",
   "metadata": {},
   "outputs": [
    {
     "data": {
      "text/plain": [
       "3008665"
      ]
     },
     "execution_count": 21,
     "metadata": {},
     "output_type": "execute_result"
    }
   ],
   "source": [
    "# Remove first orders of each customer since the corresponding shop gap is Null\n",
    "# Keeping only the data corresponding to order_number > 1 for shopgap related metrics\n",
    "\n",
    "order_details_prior_exc_1 = order_details_prior[order_details_prior['order_number'] > 1]\n",
    "len(pd.unique(order_details_prior_exc_1['order_id']))"
   ]
  },
  {
   "cell_type": "code",
   "execution_count": 22,
   "id": "fe3231c7",
   "metadata": {},
   "outputs": [],
   "source": [
    "df_orders_shopgap_counts = order_details_prior_exc_1.groupby(['days_since_prior_order'], as_index=False).agg({\"order_id\":pd.Series.nunique}).rename(columns={'order_id':'order_counts'})"
   ]
  },
  {
   "cell_type": "code",
   "execution_count": 23,
   "id": "b3297cc5",
   "metadata": {},
   "outputs": [
    {
     "data": {
      "image/png": "[encoded data removed]",
      "text/plain": [
       "<Figure size 1440x720 with 1 Axes>"
      ]
     },
     "metadata": {
      "needs_background": "light"
     },
     "output_type": "display_data"
    }
   ],
   "source": [
    "plt.figure(figsize=(20,10))\n",
    "sns.barplot(x = 'days_since_prior_order', y = 'order_counts', data = df_orders_shopgap_counts, color = 'darkorange')\n",
    "plt.xlabel('Shop gap')\n",
    "plt.ylabel('Number of orders')\n",
    "plt.title('Number of orders for various shop gaps')\n",
    "plt.show()\n",
    "\n",
    "del df_orders_shopgap_counts"
   ]
  },
  {
   "cell_type": "markdown",
   "id": "1e99c75f",
   "metadata": {},
   "source": [
    "#### <u>Findings</u>:\n",
    "- Maximum number of orders are placed at an interval of one week (7 days) or one month (30 days) from the previous order. Compared to the total number of orders placed, Weekly and Monthly orders amount to 11% each.\n",
    "- Approx two-thirds (64%) of all the orders are placed at a shop gap of 10 days or less."
   ]
  },
  {
   "cell_type": "markdown",
   "id": "7e8462fa",
   "metadata": {},
   "source": [
    "### Understanding shop gap per user"
   ]
  },
  {
   "cell_type": "code",
   "execution_count": 24,
   "id": "cf0583ad",
   "metadata": {},
   "outputs": [],
   "source": [
    "df_user_avg_shopgap = order_details_prior_exc_1.groupby(['user_id'], as_index=False)['days_since_prior_order'].agg(['mean','median']).rename(columns={'mean':'avg_shop_gap', 'median':'median_shop_gap'})"
   ]
  },
  {
   "cell_type": "code",
   "execution_count": 25,
   "id": "c8d8909e",
   "metadata": {},
   "outputs": [
    {
     "data": {
      "text/plain": [
       "count    206209.000000\n",
       "mean         15.469680\n",
       "std           7.207451\n",
       "min           0.000000\n",
       "25%           9.554688\n",
       "50%          14.695312\n",
       "75%          20.718750\n",
       "max          30.000000\n",
       "Name: avg_shop_gap, dtype: float64"
      ]
     },
     "execution_count": 25,
     "metadata": {},
     "output_type": "execute_result"
    }
   ],
   "source": [
    "df_user_avg_shopgap['avg_shop_gap'] = df_user_avg_shopgap['avg_shop_gap'].astype(float)\n",
    "df_user_avg_shopgap['median_shop_gap'] = df_user_avg_shopgap['median_shop_gap'].astype(float)\n",
    "df_user_avg_shopgap['avg_shop_gap'].describe()"
   ]
  },
  {
   "cell_type": "code",
   "execution_count": 26,
   "id": "4bff17e0",
   "metadata": {},
   "outputs": [
    {
     "data": {
      "image/png": "[encoded data removed]",
      "text/plain": [
       "<Figure size 720x720 with 1 Axes>"
      ]
     },
     "metadata": {
      "needs_background": "light"
     },
     "output_type": "display_data"
    }
   ],
   "source": [
    "sns.histplot(data=df_user_avg_shopgap, x=\"avg_shop_gap\", discrete = True, color = 'darkorange')\n",
    "plt.xlabel('Average Shop gap per user')\n",
    "plt.ylabel('Number of users')\n",
    "plt.title('Frequency distribution of Average shop gap per user')\n",
    "plt.show()\n",
    "\n",
    "del order_details_prior_exc_1\n",
    "del df_user_avg_shopgap"
   ]
  },
  {
   "cell_type": "markdown",
   "id": "66463ad3",
   "metadata": {},
   "source": [
    "#### <u>Findings</u>:\n",
    "Though 64% of all the orders have been placed at a shopgap of 10 days or less from the prior order, average shop gap at user level is more dispersed. Around half of our customer base has an average shop gap of 14.7 days.\n",
    "\n",
    "High proportion of the users are weekly and monthly shoppers (~ 5% of the customer base respectively). In addition, a large portion of users are in the average shop gap range of 8 to 15 (~40% of the entire customer base). <b><i>The time range between 7 - 15 days would  an ideal time to send shopping reminders to users to activate shopping behavior </b></i>."
   ]
  },
  {
   "cell_type": "markdown",
   "id": "a9cc170a",
   "metadata": {},
   "source": [
    "### <u>Understanding basket composition</u>"
   ]
  },
  {
   "cell_type": "code",
   "execution_count": 27,
   "id": "5ef2ab92",
   "metadata": {},
   "outputs": [
    {
     "name": "stdout",
     "output_type": "stream",
     "text": [
      "Number of unique products that have been ordered: 49677\n"
     ]
    }
   ],
   "source": [
    "print(\"Number of unique products that have been ordered:\", order_details_prior['product_name'].nunique())\n",
    "\n",
    "df_product_counts = order_details_prior.groupby(['product_name'], as_index=False).agg({\"order_id\":pd.Series.nunique, \"user_id\":pd.Series.nunique}).rename(columns={'order_id':'order_counts', 'user_id': 'user_counts'})"
   ]
  },
  {
   "cell_type": "code",
   "execution_count": 28,
   "id": "8778e748",
   "metadata": {},
   "outputs": [
    {
     "name": "stdout",
     "output_type": "stream",
     "text": [
      "Top 10 products based on number of orders:\n"
     ]
    },
    {
     "data": {
      "text/html": [
       "<div>\n",
       "<style scoped>\n",
       "    .dataframe tbody tr th:only-of-type {\n",
       "        vertical-align: middle;\n",
       "    }\n",
       "\n",
       "    .dataframe tbody tr th {\n",
       "        vertical-align: top;\n",
       "    }\n",
       "\n",
       "    .dataframe thead th {\n",
       "        text-align: right;\n",
       "    }\n",
       "</style>\n",
       "<table border=\"1\" class=\"dataframe\">\n",
       "  <thead>\n",
       "    <tr style=\"text-align: right;\">\n",
       "      <th></th>\n",
       "      <th>product_name</th>\n",
       "      <th>order_counts</th>\n",
       "    </tr>\n",
       "  </thead>\n",
       "  <tbody>\n",
       "    <tr>\n",
       "      <th>0</th>\n",
       "      <td>Banana</td>\n",
       "      <td>472565</td>\n",
       "    </tr>\n",
       "    <tr>\n",
       "      <th>1</th>\n",
       "      <td>Bag of Organic Bananas</td>\n",
       "      <td>379450</td>\n",
       "    </tr>\n",
       "    <tr>\n",
       "      <th>2</th>\n",
       "      <td>Organic Strawberries</td>\n",
       "      <td>264683</td>\n",
       "    </tr>\n",
       "    <tr>\n",
       "      <th>3</th>\n",
       "      <td>Organic Baby Spinach</td>\n",
       "      <td>241921</td>\n",
       "    </tr>\n",
       "    <tr>\n",
       "      <th>4</th>\n",
       "      <td>Organic Hass Avocado</td>\n",
       "      <td>213584</td>\n",
       "    </tr>\n",
       "    <tr>\n",
       "      <th>5</th>\n",
       "      <td>Organic Avocado</td>\n",
       "      <td>176815</td>\n",
       "    </tr>\n",
       "    <tr>\n",
       "      <th>6</th>\n",
       "      <td>Large Lemon</td>\n",
       "      <td>152657</td>\n",
       "    </tr>\n",
       "    <tr>\n",
       "      <th>7</th>\n",
       "      <td>Strawberries</td>\n",
       "      <td>142951</td>\n",
       "    </tr>\n",
       "    <tr>\n",
       "      <th>8</th>\n",
       "      <td>Limes</td>\n",
       "      <td>140627</td>\n",
       "    </tr>\n",
       "    <tr>\n",
       "      <th>9</th>\n",
       "      <td>Organic Whole Milk</td>\n",
       "      <td>137905</td>\n",
       "    </tr>\n",
       "  </tbody>\n",
       "</table>\n",
       "</div>"
      ],
      "text/plain": [
       "             product_name  order_counts\n",
       "0                  Banana        472565\n",
       "1  Bag of Organic Bananas        379450\n",
       "2    Organic Strawberries        264683\n",
       "3    Organic Baby Spinach        241921\n",
       "4    Organic Hass Avocado        213584\n",
       "5         Organic Avocado        176815\n",
       "6             Large Lemon        152657\n",
       "7            Strawberries        142951\n",
       "8                   Limes        140627\n",
       "9      Organic Whole Milk        137905"
      ]
     },
     "execution_count": 28,
     "metadata": {},
     "output_type": "execute_result"
    }
   ],
   "source": [
    "print(\"Top 10 products based on number of orders:\")\n",
    "df_product_counts.nlargest(10, 'order_counts')[['product_name', 'order_counts']].reset_index(drop = True)"
   ]
  },
  {
   "cell_type": "code",
   "execution_count": 29,
   "id": "b6b481e6",
   "metadata": {},
   "outputs": [
    {
     "name": "stdout",
     "output_type": "stream",
     "text": [
      "Top 10 products based on number of users ordering them:\n"
     ]
    },
    {
     "data": {
      "text/html": [
       "<div>\n",
       "<style scoped>\n",
       "    .dataframe tbody tr th:only-of-type {\n",
       "        vertical-align: middle;\n",
       "    }\n",
       "\n",
       "    .dataframe tbody tr th {\n",
       "        vertical-align: top;\n",
       "    }\n",
       "\n",
       "    .dataframe thead th {\n",
       "        text-align: right;\n",
       "    }\n",
       "</style>\n",
       "<table border=\"1\" class=\"dataframe\">\n",
       "  <thead>\n",
       "    <tr style=\"text-align: right;\">\n",
       "      <th></th>\n",
       "      <th>product_name</th>\n",
       "      <th>user_counts</th>\n",
       "    </tr>\n",
       "  </thead>\n",
       "  <tbody>\n",
       "    <tr>\n",
       "      <th>0</th>\n",
       "      <td>Banana</td>\n",
       "      <td>73956</td>\n",
       "    </tr>\n",
       "    <tr>\n",
       "      <th>1</th>\n",
       "      <td>Bag of Organic Bananas</td>\n",
       "      <td>63537</td>\n",
       "    </tr>\n",
       "    <tr>\n",
       "      <th>2</th>\n",
       "      <td>Organic Strawberries</td>\n",
       "      <td>58838</td>\n",
       "    </tr>\n",
       "    <tr>\n",
       "      <th>3</th>\n",
       "      <td>Organic Baby Spinach</td>\n",
       "      <td>55037</td>\n",
       "    </tr>\n",
       "    <tr>\n",
       "      <th>4</th>\n",
       "      <td>Large Lemon</td>\n",
       "      <td>46402</td>\n",
       "    </tr>\n",
       "    <tr>\n",
       "      <th>5</th>\n",
       "      <td>Limes</td>\n",
       "      <td>44859</td>\n",
       "    </tr>\n",
       "    <tr>\n",
       "      <th>6</th>\n",
       "      <td>Organic Hass Avocado</td>\n",
       "      <td>43453</td>\n",
       "    </tr>\n",
       "    <tr>\n",
       "      <th>7</th>\n",
       "      <td>Strawberries</td>\n",
       "      <td>43149</td>\n",
       "    </tr>\n",
       "    <tr>\n",
       "      <th>8</th>\n",
       "      <td>Organic Avocado</td>\n",
       "      <td>42771</td>\n",
       "    </tr>\n",
       "    <tr>\n",
       "      <th>9</th>\n",
       "      <td>Organic Blueberries</td>\n",
       "      <td>37138</td>\n",
       "    </tr>\n",
       "  </tbody>\n",
       "</table>\n",
       "</div>"
      ],
      "text/plain": [
       "             product_name  user_counts\n",
       "0                  Banana        73956\n",
       "1  Bag of Organic Bananas        63537\n",
       "2    Organic Strawberries        58838\n",
       "3    Organic Baby Spinach        55037\n",
       "4             Large Lemon        46402\n",
       "5                   Limes        44859\n",
       "6    Organic Hass Avocado        43453\n",
       "7            Strawberries        43149\n",
       "8         Organic Avocado        42771\n",
       "9     Organic Blueberries        37138"
      ]
     },
     "execution_count": 29,
     "metadata": {},
     "output_type": "execute_result"
    }
   ],
   "source": [
    "print(\"Top 10 products based on number of users ordering them:\")\n",
    "df_product_counts.nlargest(10, 'user_counts')[['product_name', 'user_counts']].reset_index(drop = True)"
   ]
  },
  {
   "cell_type": "code",
   "execution_count": 30,
   "id": "c440a619",
   "metadata": {},
   "outputs": [],
   "source": [
    "del df_product_counts"
   ]
  },
  {
   "cell_type": "code",
   "execution_count": 31,
   "id": "c03bfca5",
   "metadata": {},
   "outputs": [],
   "source": [
    "df_product_dept_counts = order_details_prior.groupby(['department'], as_index=False).agg({\"order_id\":pd.Series.nunique, \"user_id\":pd.Series.nunique}).rename(columns={'order_id':'order_counts', 'user_id': 'user_counts'})"
   ]
  },
  {
   "cell_type": "code",
   "execution_count": 32,
   "id": "cfd20899",
   "metadata": {},
   "outputs": [
    {
     "data": {
      "text/html": [
       "<div>\n",
       "<style scoped>\n",
       "    .dataframe tbody tr th:only-of-type {\n",
       "        vertical-align: middle;\n",
       "    }\n",
       "\n",
       "    .dataframe tbody tr th {\n",
       "        vertical-align: top;\n",
       "    }\n",
       "\n",
       "    .dataframe thead th {\n",
       "        text-align: right;\n",
       "    }\n",
       "</style>\n",
       "<table border=\"1\" class=\"dataframe\">\n",
       "  <thead>\n",
       "    <tr style=\"text-align: right;\">\n",
       "      <th></th>\n",
       "      <th>department</th>\n",
       "      <th>order_counts</th>\n",
       "    </tr>\n",
       "  </thead>\n",
       "  <tbody>\n",
       "    <tr>\n",
       "      <th>0</th>\n",
       "      <td>produce</td>\n",
       "      <td>2409320</td>\n",
       "    </tr>\n",
       "    <tr>\n",
       "      <th>1</th>\n",
       "      <td>dairy eggs</td>\n",
       "      <td>2177338</td>\n",
       "    </tr>\n",
       "    <tr>\n",
       "      <th>2</th>\n",
       "      <td>beverages</td>\n",
       "      <td>1457351</td>\n",
       "    </tr>\n",
       "    <tr>\n",
       "      <th>3</th>\n",
       "      <td>snacks</td>\n",
       "      <td>1391447</td>\n",
       "    </tr>\n",
       "    <tr>\n",
       "      <th>4</th>\n",
       "      <td>frozen</td>\n",
       "      <td>1181018</td>\n",
       "    </tr>\n",
       "    <tr>\n",
       "      <th>5</th>\n",
       "      <td>pantry</td>\n",
       "      <td>1117892</td>\n",
       "    </tr>\n",
       "    <tr>\n",
       "      <th>6</th>\n",
       "      <td>bakery</td>\n",
       "      <td>881556</td>\n",
       "    </tr>\n",
       "    <tr>\n",
       "      <th>7</th>\n",
       "      <td>deli</td>\n",
       "      <td>770300</td>\n",
       "    </tr>\n",
       "    <tr>\n",
       "      <th>8</th>\n",
       "      <td>canned goods</td>\n",
       "      <td>681305</td>\n",
       "    </tr>\n",
       "    <tr>\n",
       "      <th>9</th>\n",
       "      <td>dry goods pasta</td>\n",
       "      <td>597862</td>\n",
       "    </tr>\n",
       "  </tbody>\n",
       "</table>\n",
       "</div>"
      ],
      "text/plain": [
       "        department  order_counts\n",
       "0          produce       2409320\n",
       "1       dairy eggs       2177338\n",
       "2        beverages       1457351\n",
       "3           snacks       1391447\n",
       "4           frozen       1181018\n",
       "5           pantry       1117892\n",
       "6           bakery        881556\n",
       "7             deli        770300\n",
       "8     canned goods        681305\n",
       "9  dry goods pasta        597862"
      ]
     },
     "execution_count": 32,
     "metadata": {},
     "output_type": "execute_result"
    }
   ],
   "source": [
    "df_product_dept_counts.nlargest(10, 'order_counts')[['department', 'order_counts']].reset_index(drop = True)"
   ]
  },
  {
   "cell_type": "code",
   "execution_count": 33,
   "id": "c9e27505",
   "metadata": {},
   "outputs": [
    {
     "data": {
      "text/html": [
       "<div>\n",
       "<style scoped>\n",
       "    .dataframe tbody tr th:only-of-type {\n",
       "        vertical-align: middle;\n",
       "    }\n",
       "\n",
       "    .dataframe tbody tr th {\n",
       "        vertical-align: top;\n",
       "    }\n",
       "\n",
       "    .dataframe thead th {\n",
       "        text-align: right;\n",
       "    }\n",
       "</style>\n",
       "<table border=\"1\" class=\"dataframe\">\n",
       "  <thead>\n",
       "    <tr style=\"text-align: right;\">\n",
       "      <th></th>\n",
       "      <th>department</th>\n",
       "      <th>user_counts</th>\n",
       "    </tr>\n",
       "  </thead>\n",
       "  <tbody>\n",
       "    <tr>\n",
       "      <th>0</th>\n",
       "      <td>produce</td>\n",
       "      <td>193237</td>\n",
       "    </tr>\n",
       "    <tr>\n",
       "      <th>1</th>\n",
       "      <td>dairy eggs</td>\n",
       "      <td>190565</td>\n",
       "    </tr>\n",
       "    <tr>\n",
       "      <th>2</th>\n",
       "      <td>snacks</td>\n",
       "      <td>174219</td>\n",
       "    </tr>\n",
       "    <tr>\n",
       "      <th>3</th>\n",
       "      <td>beverages</td>\n",
       "      <td>172795</td>\n",
       "    </tr>\n",
       "    <tr>\n",
       "      <th>4</th>\n",
       "      <td>pantry</td>\n",
       "      <td>172755</td>\n",
       "    </tr>\n",
       "    <tr>\n",
       "      <th>5</th>\n",
       "      <td>frozen</td>\n",
       "      <td>163233</td>\n",
       "    </tr>\n",
       "    <tr>\n",
       "      <th>6</th>\n",
       "      <td>bakery</td>\n",
       "      <td>140612</td>\n",
       "    </tr>\n",
       "    <tr>\n",
       "      <th>7</th>\n",
       "      <td>deli</td>\n",
       "      <td>133865</td>\n",
       "    </tr>\n",
       "    <tr>\n",
       "      <th>8</th>\n",
       "      <td>canned goods</td>\n",
       "      <td>133733</td>\n",
       "    </tr>\n",
       "    <tr>\n",
       "      <th>9</th>\n",
       "      <td>dry goods pasta</td>\n",
       "      <td>124820</td>\n",
       "    </tr>\n",
       "  </tbody>\n",
       "</table>\n",
       "</div>"
      ],
      "text/plain": [
       "        department  user_counts\n",
       "0          produce       193237\n",
       "1       dairy eggs       190565\n",
       "2           snacks       174219\n",
       "3        beverages       172795\n",
       "4           pantry       172755\n",
       "5           frozen       163233\n",
       "6           bakery       140612\n",
       "7             deli       133865\n",
       "8     canned goods       133733\n",
       "9  dry goods pasta       124820"
      ]
     },
     "execution_count": 33,
     "metadata": {},
     "output_type": "execute_result"
    }
   ],
   "source": [
    "df_product_dept_counts.nlargest(10, 'user_counts')[['department', 'user_counts']].reset_index(drop = True)"
   ]
  },
  {
   "cell_type": "code",
   "execution_count": 34,
   "id": "45f36d40",
   "metadata": {},
   "outputs": [],
   "source": [
    "del df_product_dept_counts"
   ]
  },
  {
   "cell_type": "code",
   "execution_count": 35,
   "id": "ab50e4de",
   "metadata": {},
   "outputs": [],
   "source": [
    "df_order_product_counts = order_details_prior.groupby(['order_id'], as_index=False).agg({\"product_id\":pd.Series.nunique}).rename(columns={'product_id':'product_counts'})\n",
    "df_order_product_counts = df_order_product_counts.merge(orders, on='order_id', how='left') "
   ]
  },
  {
   "cell_type": "code",
   "execution_count": 36,
   "id": "a4833465",
   "metadata": {},
   "outputs": [
    {
     "data": {
      "image/png": "[encoded data removed]",
      "text/plain": [
       "<Figure size 1440x720 with 1 Axes>"
      ]
     },
     "metadata": {
      "needs_background": "light"
     },
     "output_type": "display_data"
    }
   ],
   "source": [
    "plt.figure(figsize = (20,10))\n",
    "sns.histplot(data = df_order_product_counts, x=\"product_counts\", color = 'darkorange', binwidth = 2)\n",
    "plt.xlabel('Basket size')\n",
    "plt.ylabel('Number of orders')\n",
    "plt.title('Frequency distribution of Basket size or number of products per order')\n",
    "plt.show()"
   ]
  },
  {
   "cell_type": "code",
   "execution_count": 37,
   "id": "53f77ea9",
   "metadata": {},
   "outputs": [
    {
     "data": {
      "text/plain": [
       "count    3.214874e+06\n",
       "mean     1.008888e+01\n",
       "std      7.525398e+00\n",
       "min      1.000000e+00\n",
       "25%      5.000000e+00\n",
       "50%      8.000000e+00\n",
       "75%      1.400000e+01\n",
       "max      1.450000e+02\n",
       "Name: product_counts, dtype: float64"
      ]
     },
     "execution_count": 37,
     "metadata": {},
     "output_type": "execute_result"
    }
   ],
   "source": [
    "df_order_product_counts['product_counts'].describe()"
   ]
  },
  {
   "cell_type": "code",
   "execution_count": 38,
   "id": "4a434c83",
   "metadata": {},
   "outputs": [
    {
     "data": {
      "text/plain": [
       "count    206209.000000\n",
       "mean          9.951586\n",
       "std           5.863570\n",
       "min           1.000000\n",
       "25%           5.740741\n",
       "50%           8.933333\n",
       "75%          13.000000\n",
       "max          70.250000\n",
       "Name: avg_product_per_ord, dtype: float64"
      ]
     },
     "execution_count": 38,
     "metadata": {},
     "output_type": "execute_result"
    }
   ],
   "source": [
    "df_user_products_counts = df_order_product_counts.groupby(['user_id'], as_index=False).agg({\"product_counts\":'mean'}).rename(columns={'product_counts':'avg_product_per_ord'})\n",
    "df_user_products_counts['avg_product_per_ord'].describe()"
   ]
  },
  {
   "cell_type": "code",
   "execution_count": 39,
   "id": "97305ab9",
   "metadata": {},
   "outputs": [
    {
     "data": {
      "image/png": "[encoded data removed]",
      "text/plain": [
       "<Figure size 720x720 with 1 Axes>"
      ]
     },
     "metadata": {
      "needs_background": "light"
     },
     "output_type": "display_data"
    }
   ],
   "source": [
    "sns.histplot(data = df_user_products_counts, x = 'avg_product_per_ord', color = 'darkorange')\n",
    "plt.xlabel('Average basket size of user')\n",
    "plt.ylabel('Number of users')\n",
    "plt.title('Frequency distribution of Average Basket size of user')\n",
    "plt.show()\n",
    "\n",
    "del df_user_products_counts"
   ]
  },
  {
   "cell_type": "code",
   "execution_count": 40,
   "id": "5fa00df5",
   "metadata": {},
   "outputs": [],
   "source": [
    "df_shopgap_products_counts = df_order_product_counts.groupby(['days_since_prior_order'], as_index=False).agg({\"product_counts\":'mean'}).rename(columns={'product_counts':'avg_product_per_ord'})"
   ]
  },
  {
   "cell_type": "code",
   "execution_count": 41,
   "id": "f0239480",
   "metadata": {},
   "outputs": [
    {
     "data": {
      "image/png": "[encoded data removed]",
      "text/plain": [
       "<Figure size 1440x720 with 1 Axes>"
      ]
     },
     "metadata": {
      "needs_background": "light"
     },
     "output_type": "display_data"
    }
   ],
   "source": [
    "plt.figure(figsize = (20,10))\n",
    "sns.barplot(data = df_shopgap_products_counts, x = 'days_since_prior_order', y = 'avg_product_per_ord', color = 'darkorange')\n",
    "plt.xlabel('Shop gap from prior order')\n",
    "plt.ylabel('Average basket size')\n",
    "plt.title('Scatter plot of Basket size vs shop gap')\n",
    "plt.show()\n",
    "\n",
    "del df_shopgap_products_counts"
   ]
  },
  {
   "cell_type": "code",
   "execution_count": 42,
   "id": "1147908e",
   "metadata": {},
   "outputs": [],
   "source": [
    "del df_order_product_counts"
   ]
  },
  {
   "cell_type": "markdown",
   "id": "94402414",
   "metadata": {},
   "source": [
    "#### <u>Findings</u>:\n",
    "- Basket size ranges from 1 to 145 in terms of the number of unique products. 50% of all the orders have more than 8 products in them.\n",
    "- Half of our customer base have an average basket size of 9 products or more.\n",
    "- Orders placed with a shop gap of more than 4 days have an average basket size of above 10 products.  "
   ]
  },
  {
   "cell_type": "markdown",
   "id": "bbe55784",
   "metadata": {},
   "source": [
    "### <u>Understanding reordering behavior</u>"
   ]
  },
  {
   "cell_type": "code",
   "execution_count": 43,
   "id": "ed1f77ce",
   "metadata": {},
   "outputs": [],
   "source": [
    "# Calculate number of orders and reorders for each product\n",
    "prod_order_counts = order_details_prior.groupby('product_id').size().reset_index(name = 'all_occurences')\n",
    "prod_reorder_counts = order_details_prior.groupby('product_id')['reordered'].apply(lambda x: (x == 1).sum()).reset_index(name = 'reordered_occurences')\n",
    "\n",
    "prod_counts = prod_order_counts.merge(prod_reorder_counts, on = 'product_id', how = 'left')"
   ]
  },
  {
   "cell_type": "code",
   "execution_count": 44,
   "id": "45b4667b",
   "metadata": {},
   "outputs": [
    {
     "name": "stdout",
     "output_type": "stream",
     "text": [
      "8.8 % of all the products in the inventory have never been reordered by the same customer.\n"
     ]
    }
   ],
   "source": [
    "pct_prod_0_reord = round(len(prod_counts[prod_counts['reordered_occurences']==0])*100/len(prod_counts),2)\n",
    "print(pct_prod_0_reord,\"% of all the products in the inventory have never been reordered by the same customer.\")"
   ]
  },
  {
   "cell_type": "code",
   "execution_count": 45,
   "id": "e23e5928",
   "metadata": {},
   "outputs": [],
   "source": [
    "# Calculate count of all products and reordered products in each order\n",
    "\n",
    "order_prod_counts = order_details_prior.groupby(['order_id', 'user_id', 'order_number']).size().reset_index(name = 'prod_count')\n",
    "\n",
    "# order_reorder_counts = order_details_prior[order_details_prior['reordered'] == 1].groupby(['order_id']).size().reset_index(name='reordered_count') \n",
    "# (2826361, 2)\n",
    "order_reorder_counts = order_details_prior.groupby('order_id')['reordered'].apply(lambda x: (x == 1).sum()).reset_index(name = 'reordered_count')\n",
    "# (3214874, 2)"
   ]
  },
  {
   "cell_type": "code",
   "execution_count": 46,
   "id": "b813116b",
   "metadata": {},
   "outputs": [],
   "source": [
    "order_prod_reorder_counts = order_prod_counts.merge(order_reorder_counts, on = 'order_id', how = 'left' )"
   ]
  },
  {
   "cell_type": "code",
   "execution_count": 47,
   "id": "8dca5c08",
   "metadata": {},
   "outputs": [],
   "source": [
    "#Excluding first shop orders of all customers since they will have no reordered products\n",
    "order_prod_reorder_counts_exc_1 = order_prod_reorder_counts[order_prod_reorder_counts['order_number']>1]"
   ]
  },
  {
   "cell_type": "code",
   "execution_count": 48,
   "id": "95c359f5",
   "metadata": {},
   "outputs": [
    {
     "name": "stdout",
     "output_type": "stream",
     "text": [
      "Total number of orders excluding the first shop of customers is 3008665 .\n"
     ]
    }
   ],
   "source": [
    "ord_count_exc_1  = len(order_prod_reorder_counts_exc_1)\n",
    "print(\"Total number of orders excluding the first shop of customers is\",ord_count_exc_1,\".\")"
   ]
  },
  {
   "cell_type": "code",
   "execution_count": 49,
   "id": "c341ff4e",
   "metadata": {},
   "outputs": [
    {
     "data": {
      "text/plain": [
       "count    3.008665e+06\n",
       "mean     6.396947e+01\n",
       "std      3.095133e+01\n",
       "min      0.000000e+00\n",
       "25%      4.166667e+01\n",
       "50%      6.666667e+01\n",
       "75%      9.285714e+01\n",
       "max      1.000000e+02\n",
       "Name: reorder_pct, dtype: float64"
      ]
     },
     "execution_count": 49,
     "metadata": {},
     "output_type": "execute_result"
    }
   ],
   "source": [
    "order_prod_reorder_counts_exc_1['reorder_pct'] = order_prod_reorder_counts_exc_1['reordered_count']*100/ order_prod_reorder_counts_exc_1['prod_count']\n",
    "order_prod_reorder_counts_exc_1['reorder_pct'].describe()"
   ]
  },
  {
   "cell_type": "code",
   "execution_count": 50,
   "id": "5bcdb70a",
   "metadata": {},
   "outputs": [
    {
     "data": {
      "image/png": "[encoded data removed]",
      "text/plain": [
       "<Figure size 720x720 with 1 Axes>"
      ]
     },
     "metadata": {
      "needs_background": "light"
     },
     "output_type": "display_data"
    }
   ],
   "source": [
    "sns.histplot(order_prod_reorder_counts_exc_1, x = 'reorder_pct', color = 'darkorange')\n",
    "plt.xlabel('Proportion of reordered products in an order')\n",
    "plt.ylabel('Number of order')\n",
    "plt.title('Frequency distribution of proportion of reordered products in an order')\n",
    "plt.show()"
   ]
  },
  {
   "cell_type": "code",
   "execution_count": 51,
   "id": "8b893a8d",
   "metadata": {},
   "outputs": [
    {
     "name": "stdout",
     "output_type": "stream",
     "text": [
      "Proportion of orders having no products in the basket as reordered products is 6.06 %.\n",
      "Proportion of orders having at least 1 product in the basket as reordered is 93.94 %.\n"
     ]
    }
   ],
   "source": [
    "pct_0pct_reord = round(len(order_prod_reorder_counts_exc_1[order_prod_reorder_counts_exc_1['reorder_pct'] == 0])*100/ord_count_exc_1,2)\n",
    "print(\"Proportion of orders having no products in the basket as reordered products is\",pct_0pct_reord,\"%.\")\n",
    "print(\"Proportion of orders having at least 1 product in the basket as reordered is\",100-pct_0pct_reord,\"%.\")"
   ]
  },
  {
   "cell_type": "code",
   "execution_count": 52,
   "id": "bafd53c8",
   "metadata": {
    "scrolled": true
   },
   "outputs": [
    {
     "name": "stdout",
     "output_type": "stream",
     "text": [
      "Proportion of orders having all products in the basket as reordered products is 23.1 %.\n"
     ]
    }
   ],
   "source": [
    "pct_100pct_reord = round(len(order_prod_reorder_counts_exc_1[order_prod_reorder_counts_exc_1['reorder_pct'] == 100])*100/ord_count_exc_1,2)\n",
    "print(\"Proportion of orders having all products in the basket as reordered products is\",pct_100pct_reord,\"%.\")"
   ]
  },
  {
   "cell_type": "markdown",
   "id": "f8bbb155",
   "metadata": {},
   "source": [
    "#### <u>Findings</u>:\n",
    "* Approximately 9% of all the products in the inventory have never been reordered by the same customer.\n",
    "* On an average, 63% of every basket consists of products that have been reorderd by the customer (excluding the baskets corresponding to first shop of a customer with Instacart).\n",
    "* 94% of all orders (excluding first shops of customers) have at least one reordered product in them.\n",
    "* Excluding the first shops of customers, about a quarter (23.1%) of the orders have all products being reordered by the corresponding customer."
   ]
  }
 ],
 "metadata": {
  "kernelspec": {
   "display_name": "Python 3 (ipykernel)",
   "language": "python",
   "name": "python3"
  },
  "language_info": {
   "codemirror_mode": {
    "name": "ipython",
    "version": 3
   },
   "file_extension": ".py",
   "mimetype": "text/x-python",
   "name": "python",
   "nbconvert_exporter": "python",
   "pygments_lexer": "ipython3",
   "version": "3.9.12"
  }
 },
 "nbformat": 4,
 "nbformat_minor": 5
}
