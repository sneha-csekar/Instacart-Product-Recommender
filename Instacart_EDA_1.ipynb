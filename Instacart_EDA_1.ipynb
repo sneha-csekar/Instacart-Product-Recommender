{
 "cells": [
  {
   "cell_type": "markdown",
   "id": "a2ec3707",
   "metadata": {},
   "source": [
    "# Exploratory Data Analysis (EDA) of Instacart data"
   ]
  },
  {
   "cell_type": "markdown",
   "id": "11e956e3",
   "metadata": {},
   "source": [
    "## <u>Part I. Loading the datasets</u>"
   ]
  },
  {
   "cell_type": "code",
   "execution_count": 123,
   "id": "8e74c00a",
   "metadata": {},
   "outputs": [],
   "source": [
    "import numpy as np\n",
    "import pandas as pd\n",
    "import matplotlib.pyplot as plt\n",
    "import seaborn as sns\n",
    "import datetime\n",
    "import random\n",
    "from IPython.display import display\n",
    "\n",
    "# import matplotlib\n",
    "# matplotlib.rcParams.update(matplotlib.rcParamsDefault)\n",
    "\n",
    "color = sns.color_palette(['teal', 'darkorange', 'grey', 'forestgreen','maroon', 'deepskyblue'])\n",
    "\n",
    "pd.options.mode.chained_assignment = None\n",
    "\n",
    "%matplotlib inline\n",
    "cmap_colors = sns.cubehelix_palette(start=.5, rot=-.5, as_cmap=True)\n",
    "\n",
    "# define the fig size of all figures\n",
    "plt.rcParams[\"figure.figsize\"] = (10,10)"
   ]
  },
  {
   "cell_type": "code",
   "execution_count": 2,
   "id": "605b0086",
   "metadata": {},
   "outputs": [],
   "source": [
    "import os\n",
    "wd = os.getcwd()\n",
    "os.chdir('..')\n",
    "new_wd = os.getcwd()\n",
    "\n",
    "data_directory_path = new_wd + '\\Data'"
   ]
  },
  {
   "cell_type": "code",
   "execution_count": 3,
   "id": "fed05813",
   "metadata": {},
   "outputs": [
    {
     "name": "stdout",
     "output_type": "stream",
     "text": [
      "C:\\Users\\Vinu\\Documents\\Python Scripts\\Instacart\\Data\n"
     ]
    }
   ],
   "source": [
    "# ---------------------\n",
    "# REMOVE\n",
    "# ---------------------\n",
    "print(data_directory_path)"
   ]
  },
  {
   "cell_type": "code",
   "execution_count": 3,
   "id": "0394801d",
   "metadata": {},
   "outputs": [
    {
     "name": "stdout",
     "output_type": "stream",
     "text": [
      "{0: 'Saturday', 1: 'Sunday', 2: 'Monday', 3: 'Tuesday', 4: 'Wednesday', 5: 'Thursday', 6: 'Friday'}\n",
      "{0: '12:00 AM', 1: '01:00 AM', 2: '02:00 AM', 3: '03:00 AM', 4: '04:00 AM', 5: '05:00 AM', 6: '06:00 AM', 7: '07:00 AM', 8: '08:00 AM', 9: '09:00 AM', 10: '10:00 AM', 11: '11:00 AM', 12: '12:00 PM', 13: '01:00 PM', 14: '02:00 PM', 15: '03:00 PM', 16: '04:00 PM', 17: '05:00 PM', 18: '06:00 PM', 19: '07:00 PM', 20: '08:00 PM', 21: '09:00 PM', 22: '10:00 PM', 23: '11:00 PM'}\n"
     ]
    }
   ],
   "source": [
    "# Converting the days and hours from numbers to their interpretable form\n",
    "days_of_week = {0: 'Saturday', \n",
    "                1: 'Sunday', \n",
    "                2: 'Monday',\n",
    "                3: 'Tuesday',\n",
    "                4: 'Wednesday',\n",
    "                5: 'Thursday',\n",
    "                6: 'Friday'}\n",
    "hour_nums = list(range(24))\n",
    "hours_of_day = {hour_num:datetime.time(hour_num).strftime(\"%I:00 %p\") for hour_num in hour_nums}\n",
    "print(days_of_week)\n",
    "print(hours_of_day)"
   ]
  },
  {
   "cell_type": "code",
   "execution_count": 18,
   "id": "c66b3760",
   "metadata": {},
   "outputs": [
    {
     "data": {
      "text/plain": [
       "0    05:00 AM\n",
       "1    06:00 AM\n",
       "2    07:00 AM\n",
       "3    08:00 AM\n",
       "4    09:00 AM\n",
       "Name: order_hour_of_day, dtype: category\n",
       "Categories (24, object): ['12:00 AM' < '01:00 AM' < '02:00 AM' < '03:00 AM' ... '08:00 PM' < '09:00 PM' < '10:00 PM' < '11:00 PM']"
      ]
     },
     "execution_count": 18,
     "metadata": {},
     "output_type": "execute_result"
    }
   ],
   "source": [
    "# ---------------------\n",
    "# REMOVE\n",
    "# ---------------------\n",
    "# df = pd.DataFrame({'A': [0, 1, 2, 3, 4],\n",
    "#                    'order_hour_of_day': [5, 6, 7, 8, 9],\n",
    "#                    'C': ['a', 'b', 'c', 'd', 'e']})\n",
    "# # Replacing numbers with their corresponding hour representation\n",
    "# df['order_hour_of_day'] = df['order_hour_of_day'].replace(hours_of_day)\n",
    "# df['order_hour_of_day'] = pd.Categorical(df['order_hour_of_day'], ordered=True, categories=list(hours_of_day.values()))\n",
    "# # print(df)\n",
    "# df['order_hour_of_day']"
   ]
  },
  {
   "cell_type": "code",
   "execution_count": 4,
   "id": "0e8946ac",
   "metadata": {},
   "outputs": [],
   "source": [
    "def reduce_mem_usage(train_data):\n",
    "    start_mem = train_data.memory_usage().sum() / 1024**2\n",
    "    print('Memory usage of dataframe is {:.2f} MB'.format(start_mem))\n",
    "\n",
    "    for col in train_data.columns:\n",
    "        col_type = train_data[col].dtype\n",
    "        \n",
    "        if col_type not in [object, 'category']:\n",
    "            c_min = train_data[col].min()\n",
    "            c_max = train_data[col].max()\n",
    "            if str(col_type)[:3] == 'int':\n",
    "                if c_min > np.iinfo(np.int8).min and c_max < np.iinfo(np.int8).max:\n",
    "                    train_data[col] = train_data[col].astype(np.int8)\n",
    "                elif c_min > np.iinfo(np.int16).min and c_max < np.iinfo(np.int16).max:\n",
    "                    train_data[col] = train_data[col].astype(np.int16)\n",
    "                elif c_min > np.iinfo(np.int32).min and c_max < np.iinfo(np.int32).max:\n",
    "                    train_data[col] = train_data[col].astype(np.int32)\n",
    "                elif c_min > np.iinfo(np.int64).min and c_max < np.iinfo(np.int64).max:\n",
    "                    train_data[col] = train_data[col].astype(np.int64)  \n",
    "            else:\n",
    "                if c_min > np.finfo(np.float16).min and c_max < np.finfo(np.float16).max:\n",
    "                    train_data[col] = train_data[col].astype(np.float16)\n",
    "                elif c_min > np.finfo(np.float32).min and c_max < np.finfo(np.float32).max:\n",
    "                    train_data[col] = train_data[col].astype(np.float32)\n",
    "                else:\n",
    "                    train_data[col] = train_data[col].astype(np.float64)\n",
    "        else:\n",
    "            train_data[col] = train_data[col].astype('category')\n",
    "    end_mem = train_data.memory_usage().sum() / 1024**2\n",
    "    print('Memory usage after optimization is: {:.2f} MB'.format(end_mem))\n",
    "    print('Decreased by {:.1f}%'.format(100 * (start_mem - end_mem) / start_mem))\n",
    "\n",
    "    return train_data\n",
    "\n",
    "# Annotate text on graph\n",
    "def annotate_text(p, append_to_text='%'):\n",
    "    for p in ax.patches:\n",
    "        txt = str(p.get_height().round(2)) + append_to_text\n",
    "        txt_x = p.get_x() + p.get_width()/2.\n",
    "        txt_y = 0.92*p.get_height()\n",
    "        ax.text(txt_x,txt_y,txt, fontsize=20, color='#004235', ha='center', va='bottom')"
   ]
  },
  {
   "cell_type": "code",
   "execution_count": 5,
   "id": "08dad571",
   "metadata": {},
   "outputs": [
    {
     "name": "stdout",
     "output_type": "stream",
     "text": [
      "Memory usage of dataframe is 0.00 MB\n",
      "Memory usage after optimization is: 0.01 MB\n",
      "Decreased by -159.9%\n",
      "Memory usage of dataframe is 0.00 MB\n",
      "Memory usage after optimization is: 0.00 MB\n",
      "Decreased by -92.7%\n",
      "Memory usage of dataframe is 989.82 MB\n",
      "Memory usage after optimization is: 340.25 MB\n",
      "Decreased by 65.6%\n",
      "Memory usage of dataframe is 42.26 MB\n",
      "Memory usage after optimization is: 13.20 MB\n",
      "Decreased by 68.7%\n",
      "Memory usage of dataframe is 137.03 MB\n",
      "Memory usage after optimization is: 45.68 MB\n",
      "Decreased by 66.7%\n",
      "Memory usage of dataframe is 1.52 MB\n",
      "Memory usage after optimization is: 1.91 MB\n",
      "Decreased by -25.8%\n"
     ]
    }
   ],
   "source": [
    "aisles = pd.read_csv(data_directory_path + r'\\aisles.csv')\n",
    "aisles = reduce_mem_usage(aisles)\n",
    "\n",
    "departments = pd.read_csv(data_directory_path + r'\\departments.csv')\n",
    "departments = reduce_mem_usage(departments)\n",
    "\n",
    "order_products_prior = pd.read_csv(data_directory_path + r'\\order_products__prior.csv')\n",
    "order_products_prior = reduce_mem_usage(order_products_prior)\n",
    "\n",
    "order_products_train = pd.read_csv(data_directory_path + r'\\order_products__train.csv')\n",
    "order_products_train = reduce_mem_usage(order_products_train)\n",
    "\n",
    "orders = pd.read_csv(data_directory_path + r'\\orders.csv')\n",
    "\n",
    "# Replacing numbers with their corresponding hour representation\n",
    "orders['order_hour_of_day'] = orders['order_hour_of_day'].replace(hours_of_day)\n",
    "orders['order_hour_of_day'] = pd.Categorical(orders['order_hour_of_day'], ordered=True, categories=list(hours_of_day.values()))\n",
    "# Replacing numbers with their corresponding day of week\n",
    "# Define the categories of days of week sorted normally from Saturday to Friday\n",
    "orders['order_dow'] = orders['order_dow'].replace(days_of_week)\n",
    "orders['order_dow'] = pd.Categorical(orders['order_dow'], ordered=True, categories=list(days_of_week.values()))\n",
    "orders = reduce_mem_usage(orders)\n",
    "\n",
    "products = pd.read_csv(data_directory_path + r'\\products.csv')\n",
    "products = reduce_mem_usage(products)"
   ]
  },
  {
   "cell_type": "markdown",
   "id": "22abd2b9",
   "metadata": {},
   "source": [
    "## <u>Part II. Understanding the data</u>"
   ]
  },
  {
   "cell_type": "code",
   "execution_count": null,
   "id": "e23ea95f",
   "metadata": {},
   "outputs": [],
   "source": [
    "df_list = %who_ls DataFrame\n",
    "for df in df_list:\n",
    "    print(\"================\\n\")\n",
    "    print('Shape of ', df,' dataset: ', eval(df).shape)\n",
    "    print(eval(df).info(), '\\n')"
   ]
  },
  {
   "cell_type": "code",
   "execution_count": 148,
   "id": "16b10374",
   "metadata": {},
   "outputs": [
    {
     "data": {
      "image/png": "[encoded data removed]",
      "text/plain": [
       "<Figure size 360x360 with 1 Axes>"
      ]
     },
     "metadata": {
      "needs_background": "light"
     },
     "output_type": "display_data"
    }
   ],
   "source": [
    "# Count of orders in prior, train and test evaluation set\n",
    "plt.figure(figsize = (5,5))\n",
    "p = sns.countplot(data = orders, x = 'eval_set', color = 'darkorange')\n",
    "for i in p.containers:\n",
    "    p.bar_label(i, fmt = '%d')\n"
   ]
  },
  {
   "cell_type": "markdown",
   "id": "7a74eada",
   "metadata": {},
   "source": [
    "## <u>Part III. Data Preparation</u>"
   ]
  },
  {
   "cell_type": "code",
   "execution_count": 58,
   "id": "d4256930",
   "metadata": {},
   "outputs": [],
   "source": [
    "# Combining prior and train order sets\n",
    "# Joining with orders, products, departments and aisles to collate all information \n",
    "order_products_all = pd.concat([order_products_prior, order_products_train])\n",
    "order_details = order_products_all.merge(orders, on='order_id', how='left').merge(products, on='product_id', how='left').merge(departments, on='department_id').merge(aisles, on='aisle_id')"
   ]
  },
  {
   "cell_type": "code",
   "execution_count": 59,
   "id": "4d43e8c4",
   "metadata": {},
   "outputs": [
    {
     "data": {
      "text/html": [
       "<div>\n",
       "<style scoped>\n",
       "    .dataframe tbody tr th:only-of-type {\n",
       "        vertical-align: middle;\n",
       "    }\n",
       "\n",
       "    .dataframe tbody tr th {\n",
       "        vertical-align: top;\n",
       "    }\n",
       "\n",
       "    .dataframe thead th {\n",
       "        text-align: right;\n",
       "    }\n",
       "</style>\n",
       "<table border=\"1\" class=\"dataframe\">\n",
       "  <thead>\n",
       "    <tr style=\"text-align: right;\">\n",
       "      <th></th>\n",
       "      <th>order_id</th>\n",
       "      <th>product_id</th>\n",
       "      <th>add_to_cart_order</th>\n",
       "      <th>reordered</th>\n",
       "      <th>user_id</th>\n",
       "      <th>eval_set</th>\n",
       "      <th>order_number</th>\n",
       "      <th>order_dow</th>\n",
       "      <th>order_hour_of_day</th>\n",
       "      <th>days_since_prior_order</th>\n",
       "      <th>product_name</th>\n",
       "      <th>aisle_id</th>\n",
       "      <th>department_id</th>\n",
       "      <th>department</th>\n",
       "      <th>aisle</th>\n",
       "    </tr>\n",
       "  </thead>\n",
       "  <tbody>\n",
       "    <tr>\n",
       "      <th>0</th>\n",
       "      <td>2</td>\n",
       "      <td>33120</td>\n",
       "      <td>1</td>\n",
       "      <td>1</td>\n",
       "      <td>202279</td>\n",
       "      <td>prior</td>\n",
       "      <td>3</td>\n",
       "      <td>Thursday</td>\n",
       "      <td>09:00 AM</td>\n",
       "      <td>8.0</td>\n",
       "      <td>Organic Egg Whites</td>\n",
       "      <td>86</td>\n",
       "      <td>16</td>\n",
       "      <td>dairy eggs</td>\n",
       "      <td>eggs</td>\n",
       "    </tr>\n",
       "    <tr>\n",
       "      <th>1</th>\n",
       "      <td>22</td>\n",
       "      <td>23341</td>\n",
       "      <td>6</td>\n",
       "      <td>1</td>\n",
       "      <td>30822</td>\n",
       "      <td>prior</td>\n",
       "      <td>25</td>\n",
       "      <td>Sunday</td>\n",
       "      <td>08:00 AM</td>\n",
       "      <td>12.0</td>\n",
       "      <td>Large Grade AA Eggs</td>\n",
       "      <td>86</td>\n",
       "      <td>16</td>\n",
       "      <td>dairy eggs</td>\n",
       "      <td>eggs</td>\n",
       "    </tr>\n",
       "    <tr>\n",
       "      <th>2</th>\n",
       "      <td>25</td>\n",
       "      <td>6383</td>\n",
       "      <td>7</td>\n",
       "      <td>1</td>\n",
       "      <td>59897</td>\n",
       "      <td>prior</td>\n",
       "      <td>19</td>\n",
       "      <td>Friday</td>\n",
       "      <td>10:00 AM</td>\n",
       "      <td>25.0</td>\n",
       "      <td>All Whites 100% Egg Whites</td>\n",
       "      <td>86</td>\n",
       "      <td>16</td>\n",
       "      <td>dairy eggs</td>\n",
       "      <td>eggs</td>\n",
       "    </tr>\n",
       "    <tr>\n",
       "      <th>3</th>\n",
       "      <td>26</td>\n",
       "      <td>33120</td>\n",
       "      <td>5</td>\n",
       "      <td>0</td>\n",
       "      <td>153404</td>\n",
       "      <td>prior</td>\n",
       "      <td>2</td>\n",
       "      <td>Saturday</td>\n",
       "      <td>04:00 PM</td>\n",
       "      <td>7.0</td>\n",
       "      <td>Organic Egg Whites</td>\n",
       "      <td>86</td>\n",
       "      <td>16</td>\n",
       "      <td>dairy eggs</td>\n",
       "      <td>eggs</td>\n",
       "    </tr>\n",
       "    <tr>\n",
       "      <th>4</th>\n",
       "      <td>55</td>\n",
       "      <td>11520</td>\n",
       "      <td>12</td>\n",
       "      <td>0</td>\n",
       "      <td>127522</td>\n",
       "      <td>prior</td>\n",
       "      <td>8</td>\n",
       "      <td>Wednesday</td>\n",
       "      <td>02:00 PM</td>\n",
       "      <td>5.0</td>\n",
       "      <td>Large Alfresco Eggs</td>\n",
       "      <td>86</td>\n",
       "      <td>16</td>\n",
       "      <td>dairy eggs</td>\n",
       "      <td>eggs</td>\n",
       "    </tr>\n",
       "  </tbody>\n",
       "</table>\n",
       "</div>"
      ],
      "text/plain": [
       "   order_id  product_id  add_to_cart_order  reordered  user_id eval_set  \\\n",
       "0         2       33120                  1          1   202279    prior   \n",
       "1        22       23341                  6          1    30822    prior   \n",
       "2        25        6383                  7          1    59897    prior   \n",
       "3        26       33120                  5          0   153404    prior   \n",
       "4        55       11520                 12          0   127522    prior   \n",
       "\n",
       "   order_number  order_dow order_hour_of_day  days_since_prior_order  \\\n",
       "0             3   Thursday          09:00 AM                     8.0   \n",
       "1            25     Sunday          08:00 AM                    12.0   \n",
       "2            19     Friday          10:00 AM                    25.0   \n",
       "3             2   Saturday          04:00 PM                     7.0   \n",
       "4             8  Wednesday          02:00 PM                     5.0   \n",
       "\n",
       "                 product_name  aisle_id  department_id  department aisle  \n",
       "0          Organic Egg Whites        86             16  dairy eggs  eggs  \n",
       "1         Large Grade AA Eggs        86             16  dairy eggs  eggs  \n",
       "2  All Whites 100% Egg Whites        86             16  dairy eggs  eggs  \n",
       "3          Organic Egg Whites        86             16  dairy eggs  eggs  \n",
       "4         Large Alfresco Eggs        86             16  dairy eggs  eggs  "
      ]
     },
     "execution_count": 59,
     "metadata": {},
     "output_type": "execute_result"
    }
   ],
   "source": [
    "order_details.head()"
   ]
  },
  {
   "cell_type": "code",
   "execution_count": 60,
   "id": "390a2fd4",
   "metadata": {},
   "outputs": [
    {
     "data": {
      "text/plain": [
       "Index(['order_id', 'product_id', 'add_to_cart_order', 'reordered', 'user_id',\n",
       "       'eval_set', 'order_number', 'order_dow', 'order_hour_of_day',\n",
       "       'days_since_prior_order', 'product_name', 'aisle_id', 'department_id',\n",
       "       'department', 'aisle'],\n",
       "      dtype='object')"
      ]
     },
     "execution_count": 60,
     "metadata": {},
     "output_type": "execute_result"
    }
   ],
   "source": [
    "# Columns in the combined dataset\n",
    "order_details.columns"
   ]
  },
  {
   "cell_type": "code",
   "execution_count": 61,
   "id": "cf6c162f",
   "metadata": {},
   "outputs": [
    {
     "name": "stdout",
     "output_type": "stream",
     "text": [
      "Count of unqiue orders in each set: \n",
      "           order_id\n",
      "eval_set          \n",
      "prior      3214874\n",
      "test             0\n",
      "train       131209\n"
     ]
    }
   ],
   "source": [
    "# Count of unique orders \n",
    "counts_orders = order_details.groupby('eval_set').agg({\"order_id\":pd.Series.nunique})\n",
    "print(\"Count of unqiue orders in each set: \\n\", counts_orders)"
   ]
  },
  {
   "cell_type": "code",
   "execution_count": 93,
   "id": "66e46032",
   "metadata": {},
   "outputs": [
    {
     "name": "stdout",
     "output_type": "stream",
     "text": [
      "Count of total unique users:  206209\n",
      "          Count_users\n",
      "eval_set             \n",
      "prior          206209\n",
      "test                0\n",
      "train          131209\n"
     ]
    }
   ],
   "source": [
    "# Count of unique users\n",
    "print(\"Count of total unique users: \",order_details['user_id'].nunique())\n",
    "\n",
    "count_users = order_details.groupby('eval_set').agg({\"user_id\":pd.Series.nunique}).rename(columns={'user_id':'count_users'})\n",
    "print(count_users)"
   ]
  },
  {
   "cell_type": "markdown",
   "id": "e8c1c4c7",
   "metadata": {},
   "source": [
    "#### <u>Findings</u>:\n",
    "- There are a total of 206,209 users in the dataset.\n",
    "- Their past orders (ranging from order_number 4 to 100) are given in evaluation set: 'prior' which amounts to 3,214,874 orders.\n",
    "- Out of the total 206k users, the next order details for 131,209 of them are given in evaluation set: 'train' while the next order details for the remaining 75,000 denoted by evaluation set: 'test' need to be predicted. "
   ]
  },
  {
   "cell_type": "code",
   "execution_count": 88,
   "id": "5b0de6f7",
   "metadata": {},
   "outputs": [
    {
     "data": {
      "text/plain": [
       "206209"
      ]
     },
     "execution_count": 88,
     "metadata": {},
     "output_type": "execute_result"
    }
   ],
   "source": [
    "# Keeping only the data corresponding to prior orders for the EDA\n",
    "order_details_prior = order_details[order_details['eval_set'] == 'prior']\n",
    "order_details_prior['user_id'].nunique()"
   ]
  },
  {
   "cell_type": "markdown",
   "id": "ec026536",
   "metadata": {},
   "source": [
    "## <u>Part IV. Exploratory Data Analysis (EDA)</u>"
   ]
  },
  {
   "cell_type": "markdown",
   "id": "215cfed4",
   "metadata": {},
   "source": [
    "### Understanding Orders per User"
   ]
  },
  {
   "cell_type": "code",
   "execution_count": 105,
   "id": "eef9e5be",
   "metadata": {},
   "outputs": [
    {
     "data": {
      "text/html": [
       "<div>\n",
       "<style scoped>\n",
       "    .dataframe tbody tr th:only-of-type {\n",
       "        vertical-align: middle;\n",
       "    }\n",
       "\n",
       "    .dataframe tbody tr th {\n",
       "        vertical-align: top;\n",
       "    }\n",
       "\n",
       "    .dataframe thead th {\n",
       "        text-align: right;\n",
       "    }\n",
       "</style>\n",
       "<table border=\"1\" class=\"dataframe\">\n",
       "  <thead>\n",
       "    <tr style=\"text-align: right;\">\n",
       "      <th></th>\n",
       "      <th>user_id</th>\n",
       "      <th>order_counts</th>\n",
       "    </tr>\n",
       "  </thead>\n",
       "  <tbody>\n",
       "    <tr>\n",
       "      <th>0</th>\n",
       "      <td>1</td>\n",
       "      <td>10</td>\n",
       "    </tr>\n",
       "    <tr>\n",
       "      <th>1</th>\n",
       "      <td>2</td>\n",
       "      <td>14</td>\n",
       "    </tr>\n",
       "    <tr>\n",
       "      <th>2</th>\n",
       "      <td>3</td>\n",
       "      <td>12</td>\n",
       "    </tr>\n",
       "    <tr>\n",
       "      <th>3</th>\n",
       "      <td>4</td>\n",
       "      <td>5</td>\n",
       "    </tr>\n",
       "    <tr>\n",
       "      <th>4</th>\n",
       "      <td>5</td>\n",
       "      <td>4</td>\n",
       "    </tr>\n",
       "    <tr>\n",
       "      <th>...</th>\n",
       "      <td>...</td>\n",
       "      <td>...</td>\n",
       "    </tr>\n",
       "    <tr>\n",
       "      <th>206204</th>\n",
       "      <td>206205</td>\n",
       "      <td>3</td>\n",
       "    </tr>\n",
       "    <tr>\n",
       "      <th>206205</th>\n",
       "      <td>206206</td>\n",
       "      <td>67</td>\n",
       "    </tr>\n",
       "    <tr>\n",
       "      <th>206206</th>\n",
       "      <td>206207</td>\n",
       "      <td>16</td>\n",
       "    </tr>\n",
       "    <tr>\n",
       "      <th>206207</th>\n",
       "      <td>206208</td>\n",
       "      <td>49</td>\n",
       "    </tr>\n",
       "    <tr>\n",
       "      <th>206208</th>\n",
       "      <td>206209</td>\n",
       "      <td>13</td>\n",
       "    </tr>\n",
       "  </tbody>\n",
       "</table>\n",
       "<p>206209 rows × 2 columns</p>\n",
       "</div>"
      ],
      "text/plain": [
       "        user_id  order_counts\n",
       "0             1            10\n",
       "1             2            14\n",
       "2             3            12\n",
       "3             4             5\n",
       "4             5             4\n",
       "...         ...           ...\n",
       "206204   206205             3\n",
       "206205   206206            67\n",
       "206206   206207            16\n",
       "206207   206208            49\n",
       "206208   206209            13\n",
       "\n",
       "[206209 rows x 2 columns]"
      ]
     },
     "execution_count": 105,
     "metadata": {},
     "output_type": "execute_result"
    }
   ],
   "source": [
    "df_orders_user_counts = order_details_prior.groupby(['user_id'], as_index=False).agg({\"order_id\":pd.Series.nunique}).rename(columns={'order_id':'order_counts'})\n",
    "# df_orders_user_counts"
   ]
  },
  {
   "cell_type": "code",
   "execution_count": 106,
   "id": "c50072f2",
   "metadata": {},
   "outputs": [
    {
     "data": {
      "text/plain": [
       "count    206209.000000\n",
       "mean         15.590367\n",
       "std          16.654774\n",
       "min           3.000000\n",
       "25%           5.000000\n",
       "50%           9.000000\n",
       "75%          19.000000\n",
       "max          99.000000\n",
       "Name: order_counts, dtype: float64"
      ]
     },
     "execution_count": 106,
     "metadata": {},
     "output_type": "execute_result"
    }
   ],
   "source": [
    "df_orders_user_counts['order_counts'].describe()"
   ]
  },
  {
   "cell_type": "code",
   "execution_count": 126,
   "id": "2535bb13",
   "metadata": {},
   "outputs": [
    {
     "data": {
      "image/png": "[encoded data removed]",
      "text/plain": [
       "<Figure size 1440x720 with 1 Axes>"
      ]
     },
     "metadata": {
      "needs_background": "light"
     },
     "output_type": "display_data"
    }
   ],
   "source": [
    "plt.figure(figsize=(20,10))\n",
    "sns.countplot(x = 'order_counts', data = df_orders_user_counts, color = 'darkorange')\n",
    "plt.xlabel('Count of orders per user')\n",
    "plt.ylabel('Number of occurences')\n",
    "plt.title('Distribution of count of orders per user')\n",
    "plt.show()\n",
    "\n",
    "# del df_orders_user_counts"
   ]
  },
  {
   "cell_type": "markdown",
   "id": "1d21869c",
   "metadata": {},
   "source": [
    "#### <u>Findings</u>:\n",
    "- Since order_number ranges from 4 - 100, count of orders per user also spans in this range approximately. However the distribution is right skewed.\n",
    "- In spite of this huge range, 50% of the users have placed only 9 orders.\n",
    "- Only one quarter of the users have placed >= 20 orders."
   ]
  },
  {
   "cell_type": "markdown",
   "id": "188d8148",
   "metadata": {},
   "source": [
    "### Understanding Order placement by Day of Week and Time of Day"
   ]
  },
  {
   "cell_type": "code",
   "execution_count": 140,
   "id": "cb714bd3",
   "metadata": {},
   "outputs": [],
   "source": [
    "df_orders_dow_counts = order_details_prior.groupby(['order_dow'], as_index=False).agg({\"order_id\":pd.Series.nunique}).rename(columns={'order_id':'order_counts'})"
   ]
  },
  {
   "cell_type": "code",
   "execution_count": 127,
   "id": "8f343b31",
   "metadata": {},
   "outputs": [
    {
     "data": {
      "image/png": "[encoded data removed]",
      "text/plain": [
       "<Figure size 720x720 with 1 Axes>"
      ]
     },
     "metadata": {
      "needs_background": "light"
     },
     "output_type": "display_data"
    }
   ],
   "source": [
    "sns.barplot(x = 'order_dow', y = 'order_counts', data = df_orders_dow_counts, color = 'darkorange')\n",
    "plt.xlabel('Day of Week')\n",
    "plt.ylabel('Number of orders')\n",
    "plt.title('Number of orders in each day of the week')\n",
    "plt.show()"
   ]
  },
  {
   "cell_type": "code",
   "execution_count": 141,
   "id": "0ecaa043",
   "metadata": {},
   "outputs": [],
   "source": [
    "df_orders_hod_counts = order_details_prior.groupby(['order_hour_of_day'], as_index=False).agg({\"order_id\":pd.Series.nunique}).rename(columns={'order_id':'order_counts'})\n",
    "# df_orders_hod_counts"
   ]
  },
  {
   "cell_type": "code",
   "execution_count": 133,
   "id": "9dbd2b20",
   "metadata": {},
   "outputs": [
    {
     "data": {
      "image/png": "[encoded data removed]",
      "text/plain": [
       "<Figure size 1800x720 with 1 Axes>"
      ]
     },
     "metadata": {
      "needs_background": "light"
     },
     "output_type": "display_data"
    }
   ],
   "source": [
    "plt.figure(figsize=(25,10))\n",
    "sns.barplot(x = 'order_hour_of_day', y = 'order_counts', data = df_orders_hod_counts, color = 'darkorange')\n",
    "plt.xlabel('Hour of Day')\n",
    "plt.ylabel('Number of orders')\n",
    "plt.title('Number of orders in each hour of the day')\n",
    "plt.show()"
   ]
  },
  {
   "cell_type": "code",
   "execution_count": 142,
   "id": "cb8c2bd3",
   "metadata": {},
   "outputs": [],
   "source": [
    "df_orders_dow_hod_counts = order_details_prior.groupby(['order_dow','order_hour_of_day'], as_index=False).agg({\"order_id\":pd.Series.nunique}).rename(columns={'order_id':'order_counts'})\n",
    "# df_orders_dow_hod_counts\n",
    "heatmap_data = df_orders_dow_hod_counts.pivot( 'order_hour_of_day','order_dow', 'order_counts')\n",
    "# heatmap_data"
   ]
  },
  {
   "cell_type": "code",
   "execution_count": 139,
   "id": "71d4f55f",
   "metadata": {},
   "outputs": [
    {
     "data": {
      "image/png": "[encoded data removed]",
      "text/plain": [
       "<Figure size 720x720 with 2 Axes>"
      ]
     },
     "metadata": {
      "needs_background": "light"
     },
     "output_type": "display_data"
    }
   ],
   "source": [
    "ax = sns.heatmap(data=heatmap_data, cmap=\"YlGnBu\", linewidths=.5)\n",
    "plt.title('Frequency of orders per each day and hour')\n",
    "plt.ylabel('Hour of day')\n",
    "plt.xlabel('Day of week')\n",
    "plt.show()"
   ]
  },
  {
   "cell_type": "markdown",
   "id": "54afb8c0",
   "metadata": {},
   "source": [
    "#### <u>Findings</u>:\n",
    " - 10 AM to 4 PM are the busiest hours in a day garnering high volume of orders in this time period.\n",
    " - In a general week, maximum number of orders are placed on Saturday and Sunday.\n",
    " - Peak number of orders are placed at Saturday 2 PM and Sunday 10 AM."
   ]
  },
  {
   "cell_type": "markdown",
   "id": "cd155c05",
   "metadata": {},
   "source": [
    "### Understanding shop gap between orders"
   ]
  },
  {
   "cell_type": "code",
   "execution_count": 143,
   "id": "52e67202",
   "metadata": {},
   "outputs": [
    {
     "data": {
      "text/html": [
       "<div>\n",
       "<style scoped>\n",
       "    .dataframe tbody tr th:only-of-type {\n",
       "        vertical-align: middle;\n",
       "    }\n",
       "\n",
       "    .dataframe tbody tr th {\n",
       "        vertical-align: top;\n",
       "    }\n",
       "\n",
       "    .dataframe thead th {\n",
       "        text-align: right;\n",
       "    }\n",
       "</style>\n",
       "<table border=\"1\" class=\"dataframe\">\n",
       "  <thead>\n",
       "    <tr style=\"text-align: right;\">\n",
       "      <th></th>\n",
       "      <th>days_since_prior_order</th>\n",
       "      <th>order_counts</th>\n",
       "    </tr>\n",
       "  </thead>\n",
       "  <tbody>\n",
       "    <tr>\n",
       "      <th>0</th>\n",
       "      <td>0.0</td>\n",
       "      <td>64436</td>\n",
       "    </tr>\n",
       "    <tr>\n",
       "      <th>1</th>\n",
       "      <td>1.0</td>\n",
       "      <td>141011</td>\n",
       "    </tr>\n",
       "    <tr>\n",
       "      <th>2</th>\n",
       "      <td>2.0</td>\n",
       "      <td>187723</td>\n",
       "    </tr>\n",
       "    <tr>\n",
       "      <th>3</th>\n",
       "      <td>3.0</td>\n",
       "      <td>210665</td>\n",
       "    </tr>\n",
       "    <tr>\n",
       "      <th>4</th>\n",
       "      <td>4.0</td>\n",
       "      <td>214488</td>\n",
       "    </tr>\n",
       "    <tr>\n",
       "      <th>5</th>\n",
       "      <td>5.0</td>\n",
       "      <td>206691</td>\n",
       "    </tr>\n",
       "    <tr>\n",
       "      <th>6</th>\n",
       "      <td>6.0</td>\n",
       "      <td>230245</td>\n",
       "    </tr>\n",
       "    <tr>\n",
       "      <th>7</th>\n",
       "      <td>7.0</td>\n",
       "      <td>306181</td>\n",
       "    </tr>\n",
       "    <tr>\n",
       "      <th>8</th>\n",
       "      <td>8.0</td>\n",
       "      <td>173259</td>\n",
       "    </tr>\n",
       "    <tr>\n",
       "      <th>9</th>\n",
       "      <td>9.0</td>\n",
       "      <td>112184</td>\n",
       "    </tr>\n",
       "    <tr>\n",
       "      <th>10</th>\n",
       "      <td>10.0</td>\n",
       "      <td>90198</td>\n",
       "    </tr>\n",
       "    <tr>\n",
       "      <th>11</th>\n",
       "      <td>11.0</td>\n",
       "      <td>76394</td>\n",
       "    </tr>\n",
       "    <tr>\n",
       "      <th>12</th>\n",
       "      <td>12.0</td>\n",
       "      <td>71356</td>\n",
       "    </tr>\n",
       "    <tr>\n",
       "      <th>13</th>\n",
       "      <td>13.0</td>\n",
       "      <td>77765</td>\n",
       "    </tr>\n",
       "    <tr>\n",
       "      <th>14</th>\n",
       "      <td>14.0</td>\n",
       "      <td>93064</td>\n",
       "    </tr>\n",
       "    <tr>\n",
       "      <th>15</th>\n",
       "      <td>15.0</td>\n",
       "      <td>61883</td>\n",
       "    </tr>\n",
       "    <tr>\n",
       "      <th>16</th>\n",
       "      <td>16.0</td>\n",
       "      <td>43423</td>\n",
       "    </tr>\n",
       "    <tr>\n",
       "      <th>17</th>\n",
       "      <td>17.0</td>\n",
       "      <td>36281</td>\n",
       "    </tr>\n",
       "    <tr>\n",
       "      <th>18</th>\n",
       "      <td>18.0</td>\n",
       "      <td>33050</td>\n",
       "    </tr>\n",
       "    <tr>\n",
       "      <th>19</th>\n",
       "      <td>19.0</td>\n",
       "      <td>31408</td>\n",
       "    </tr>\n",
       "    <tr>\n",
       "      <th>20</th>\n",
       "      <td>20.0</td>\n",
       "      <td>35173</td>\n",
       "    </tr>\n",
       "    <tr>\n",
       "      <th>21</th>\n",
       "      <td>21.0</td>\n",
       "      <td>41262</td>\n",
       "    </tr>\n",
       "    <tr>\n",
       "      <th>22</th>\n",
       "      <td>22.0</td>\n",
       "      <td>29125</td>\n",
       "    </tr>\n",
       "    <tr>\n",
       "      <th>23</th>\n",
       "      <td>23.0</td>\n",
       "      <td>21629</td>\n",
       "    </tr>\n",
       "    <tr>\n",
       "      <th>24</th>\n",
       "      <td>24.0</td>\n",
       "      <td>18704</td>\n",
       "    </tr>\n",
       "    <tr>\n",
       "      <th>25</th>\n",
       "      <td>25.0</td>\n",
       "      <td>17324</td>\n",
       "    </tr>\n",
       "    <tr>\n",
       "      <th>26</th>\n",
       "      <td>26.0</td>\n",
       "      <td>17120</td>\n",
       "    </tr>\n",
       "    <tr>\n",
       "      <th>27</th>\n",
       "      <td>27.0</td>\n",
       "      <td>19677</td>\n",
       "    </tr>\n",
       "    <tr>\n",
       "      <th>28</th>\n",
       "      <td>28.0</td>\n",
       "      <td>23833</td>\n",
       "    </tr>\n",
       "    <tr>\n",
       "      <th>29</th>\n",
       "      <td>29.0</td>\n",
       "      <td>16976</td>\n",
       "    </tr>\n",
       "    <tr>\n",
       "      <th>30</th>\n",
       "      <td>30.0</td>\n",
       "      <td>306137</td>\n",
       "    </tr>\n",
       "  </tbody>\n",
       "</table>\n",
       "</div>"
      ],
      "text/plain": [
       "    days_since_prior_order  order_counts\n",
       "0                      0.0         64436\n",
       "1                      1.0        141011\n",
       "2                      2.0        187723\n",
       "3                      3.0        210665\n",
       "4                      4.0        214488\n",
       "5                      5.0        206691\n",
       "6                      6.0        230245\n",
       "7                      7.0        306181\n",
       "8                      8.0        173259\n",
       "9                      9.0        112184\n",
       "10                    10.0         90198\n",
       "11                    11.0         76394\n",
       "12                    12.0         71356\n",
       "13                    13.0         77765\n",
       "14                    14.0         93064\n",
       "15                    15.0         61883\n",
       "16                    16.0         43423\n",
       "17                    17.0         36281\n",
       "18                    18.0         33050\n",
       "19                    19.0         31408\n",
       "20                    20.0         35173\n",
       "21                    21.0         41262\n",
       "22                    22.0         29125\n",
       "23                    23.0         21629\n",
       "24                    24.0         18704\n",
       "25                    25.0         17324\n",
       "26                    26.0         17120\n",
       "27                    27.0         19677\n",
       "28                    28.0         23833\n",
       "29                    29.0         16976\n",
       "30                    30.0        306137"
      ]
     },
     "execution_count": 143,
     "metadata": {},
     "output_type": "execute_result"
    }
   ],
   "source": [
    "df_orders_shopgap_counts = order_details_prior.groupby(['days_since_prior_order'], as_index=False).agg({\"order_id\":pd.Series.nunique}).rename(columns={'order_id':'order_counts'})\n",
    "# df_orders_shopgap_counts"
   ]
  },
  {
   "cell_type": "code",
   "execution_count": 144,
   "id": "89a4b491",
   "metadata": {},
   "outputs": [
    {
     "data": {
      "image/png": "[encoded data removed]",
      "text/plain": [
       "<Figure size 1440x720 with 1 Axes>"
      ]
     },
     "metadata": {
      "needs_background": "light"
     },
     "output_type": "display_data"
    }
   ],
   "source": [
    "plt.figure(figsize=(20,10))\n",
    "sns.barplot(x = 'days_since_prior_order', y = 'order_counts', data = df_orders_shopgap_counts, color = 'darkorange')\n",
    "plt.xlabel('Shop gap')\n",
    "plt.ylabel('Number of orders')\n",
    "plt.title('Number of orders for various shop gaps')\n",
    "plt.show()"
   ]
  },
  {
   "cell_type": "markdown",
   "id": "0ebf7e39",
   "metadata": {},
   "source": [
    "#### <u>Findings</u>:\n",
    "- Maximum number of orders are placed at an interval of one week (7 days) or one month (30 days) from the previous order. Compared to the total number of orders placed, Weekly and Monthly orders amount to 10% each.\n",
    "- 60% of all orders are placed at a shop gap of 10 days or less.\n",
    "- Shop gap between a week and a month is a lean time and probability of reordering is low."
   ]
  },
  {
   "cell_type": "markdown",
   "id": "de4f4793",
   "metadata": {},
   "source": [
    "### Understanding shop gap per user"
   ]
  },
  {
   "cell_type": "code",
   "execution_count": 151,
   "id": "03d92851",
   "metadata": {},
   "outputs": [
    {
     "data": {
      "text/html": [
       "<div>\n",
       "<style scoped>\n",
       "    .dataframe tbody tr th:only-of-type {\n",
       "        vertical-align: middle;\n",
       "    }\n",
       "\n",
       "    .dataframe tbody tr th {\n",
       "        vertical-align: top;\n",
       "    }\n",
       "\n",
       "    .dataframe thead th {\n",
       "        text-align: right;\n",
       "    }\n",
       "</style>\n",
       "<table border=\"1\" class=\"dataframe\">\n",
       "  <thead>\n",
       "    <tr style=\"text-align: right;\">\n",
       "      <th></th>\n",
       "      <th>user_id</th>\n",
       "      <th>avg_shop_gap</th>\n",
       "    </tr>\n",
       "  </thead>\n",
       "  <tbody>\n",
       "    <tr>\n",
       "      <th>0</th>\n",
       "      <td>1</td>\n",
       "      <td>20.265625</td>\n",
       "    </tr>\n",
       "    <tr>\n",
       "      <th>1</th>\n",
       "      <td>2</td>\n",
       "      <td>15.968750</td>\n",
       "    </tr>\n",
       "    <tr>\n",
       "      <th>2</th>\n",
       "      <td>3</td>\n",
       "      <td>11.484375</td>\n",
       "    </tr>\n",
       "    <tr>\n",
       "      <th>3</th>\n",
       "      <td>4</td>\n",
       "      <td>15.359375</td>\n",
       "    </tr>\n",
       "    <tr>\n",
       "      <th>4</th>\n",
       "      <td>5</td>\n",
       "      <td>14.500000</td>\n",
       "    </tr>\n",
       "    <tr>\n",
       "      <th>...</th>\n",
       "      <td>...</td>\n",
       "      <td>...</td>\n",
       "    </tr>\n",
       "    <tr>\n",
       "      <th>206204</th>\n",
       "      <td>206205</td>\n",
       "      <td>20.671875</td>\n",
       "    </tr>\n",
       "    <tr>\n",
       "      <th>206205</th>\n",
       "      <td>206206</td>\n",
       "      <td>4.042969</td>\n",
       "    </tr>\n",
       "    <tr>\n",
       "      <th>206206</th>\n",
       "      <td>206207</td>\n",
       "      <td>14.882812</td>\n",
       "    </tr>\n",
       "    <tr>\n",
       "      <th>206207</th>\n",
       "      <td>206208</td>\n",
       "      <td>7.441406</td>\n",
       "    </tr>\n",
       "    <tr>\n",
       "      <th>206208</th>\n",
       "      <td>206209</td>\n",
       "      <td>20.281250</td>\n",
       "    </tr>\n",
       "  </tbody>\n",
       "</table>\n",
       "<p>206209 rows × 2 columns</p>\n",
       "</div>"
      ],
      "text/plain": [
       "        user_id  avg_shop_gap\n",
       "0             1     20.265625\n",
       "1             2     15.968750\n",
       "2             3     11.484375\n",
       "3             4     15.359375\n",
       "4             5     14.500000\n",
       "...         ...           ...\n",
       "206204   206205     20.671875\n",
       "206205   206206      4.042969\n",
       "206206   206207     14.882812\n",
       "206207   206208      7.441406\n",
       "206208   206209     20.281250\n",
       "\n",
       "[206209 rows x 2 columns]"
      ]
     },
     "execution_count": 151,
     "metadata": {},
     "output_type": "execute_result"
    }
   ],
   "source": [
    "df_user_shopgap_counts = order_details_prior.groupby(['user_id'], as_index=False)['days_since_prior_order'].mean().rename(columns={'days_since_prior_order':'avg_shop_gap'})\n",
    "df_user_shopgap_counts"
   ]
  },
  {
   "cell_type": "code",
   "execution_count": 154,
   "id": "90ead25f",
   "metadata": {},
   "outputs": [
    {
     "data": {
      "image/png": "[encoded data removed]",
      "text/plain": [
       "<Figure size 720x720 with 1 Axes>"
      ]
     },
     "metadata": {
      "needs_background": "light"
     },
     "output_type": "display_data"
    }
   ],
   "source": [
    "sns.histplot(data=df_user_shopgap_counts, x=\"avg_shop_gap\", discrete = True)\n",
    "plt.xlabel('Average Shop gap per user')\n",
    "plt.ylabel('Number of users')\n",
    "plt.title('Frequency distribution of Average shop gap per user')\n",
    "plt.show()"
   ]
  },
  {
   "cell_type": "code",
   "execution_count": null,
   "id": "35a86d9a",
   "metadata": {},
   "outputs": [],
   "source": [
    "# order_details_prior"
   ]
  },
  {
   "cell_type": "code",
   "execution_count": null,
   "id": "e8f75592",
   "metadata": {},
   "outputs": [],
   "source": [
    "# order_details_prior"
   ]
  },
  {
   "cell_type": "code",
   "execution_count": null,
   "id": "a87135a5",
   "metadata": {},
   "outputs": [],
   "source": [
    "# order_details_prior"
   ]
  },
  {
   "cell_type": "code",
   "execution_count": null,
   "id": "d173b5bd",
   "metadata": {},
   "outputs": [],
   "source": [
    "# order_details_prior"
   ]
  },
  {
   "cell_type": "code",
   "execution_count": null,
   "id": "481a864c",
   "metadata": {},
   "outputs": [],
   "source": [
    "# order_details_prior"
   ]
  },
  {
   "cell_type": "code",
   "execution_count": null,
   "id": "c804b921",
   "metadata": {},
   "outputs": [],
   "source": [
    "# order_details_prior"
   ]
  },
  {
   "cell_type": "code",
   "execution_count": null,
   "id": "f36c8931",
   "metadata": {},
   "outputs": [],
   "source": [
    "# order_details_prior"
   ]
  },
  {
   "cell_type": "code",
   "execution_count": 4,
   "id": "ddc1d84e",
   "metadata": {},
   "outputs": [
    {
     "ename": "FileNotFoundError",
     "evalue": "[WinError 2] The system cannot find the file specified",
     "output_type": "error",
     "traceback": [
      "\u001b[1;31m---------------------------------------------------------------------------\u001b[0m",
      "\u001b[1;31mFileNotFoundError\u001b[0m                         Traceback (most recent call last)",
      "\u001b[1;32m~\\AppData\\Local\\Temp\\ipykernel_8212\\542333382.py\u001b[0m in \u001b[0;36m<cell line: 2>\u001b[1;34m()\u001b[0m\n\u001b[0;32m      1\u001b[0m \u001b[1;32mfrom\u001b[0m \u001b[0msubprocess\u001b[0m \u001b[1;32mimport\u001b[0m \u001b[0mcheck_output\u001b[0m\u001b[1;33m\u001b[0m\u001b[1;33m\u001b[0m\u001b[0m\n\u001b[1;32m----> 2\u001b[1;33m \u001b[0mprint\u001b[0m\u001b[1;33m(\u001b[0m\u001b[0mcheck_output\u001b[0m\u001b[1;33m(\u001b[0m\u001b[1;33m[\u001b[0m\u001b[1;34m\"ls\"\u001b[0m\u001b[1;33m,\u001b[0m \u001b[1;34mr\"D:\\Projects\\Instacart product recommendation\\Data\"\u001b[0m\u001b[1;33m]\u001b[0m\u001b[1;33m)\u001b[0m\u001b[1;33m.\u001b[0m\u001b[0mdecode\u001b[0m\u001b[1;33m(\u001b[0m\u001b[1;34m\"utf8\"\u001b[0m\u001b[1;33m)\u001b[0m\u001b[1;33m)\u001b[0m\u001b[1;33m\u001b[0m\u001b[1;33m\u001b[0m\u001b[0m\n\u001b[0m",
      "\u001b[1;32m~\\anaconda3\\lib\\subprocess.py\u001b[0m in \u001b[0;36mcheck_output\u001b[1;34m(timeout, *popenargs, **kwargs)\u001b[0m\n\u001b[0;32m    422\u001b[0m         \u001b[0mkwargs\u001b[0m\u001b[1;33m[\u001b[0m\u001b[1;34m'input'\u001b[0m\u001b[1;33m]\u001b[0m \u001b[1;33m=\u001b[0m \u001b[0mempty\u001b[0m\u001b[1;33m\u001b[0m\u001b[1;33m\u001b[0m\u001b[0m\n\u001b[0;32m    423\u001b[0m \u001b[1;33m\u001b[0m\u001b[0m\n\u001b[1;32m--> 424\u001b[1;33m     return run(*popenargs, stdout=PIPE, timeout=timeout, check=True,\n\u001b[0m\u001b[0;32m    425\u001b[0m                **kwargs).stdout\n\u001b[0;32m    426\u001b[0m \u001b[1;33m\u001b[0m\u001b[0m\n",
      "\u001b[1;32m~\\anaconda3\\lib\\subprocess.py\u001b[0m in \u001b[0;36mrun\u001b[1;34m(input, capture_output, timeout, check, *popenargs, **kwargs)\u001b[0m\n\u001b[0;32m    503\u001b[0m         \u001b[0mkwargs\u001b[0m\u001b[1;33m[\u001b[0m\u001b[1;34m'stderr'\u001b[0m\u001b[1;33m]\u001b[0m \u001b[1;33m=\u001b[0m \u001b[0mPIPE\u001b[0m\u001b[1;33m\u001b[0m\u001b[1;33m\u001b[0m\u001b[0m\n\u001b[0;32m    504\u001b[0m \u001b[1;33m\u001b[0m\u001b[0m\n\u001b[1;32m--> 505\u001b[1;33m     \u001b[1;32mwith\u001b[0m \u001b[0mPopen\u001b[0m\u001b[1;33m(\u001b[0m\u001b[1;33m*\u001b[0m\u001b[0mpopenargs\u001b[0m\u001b[1;33m,\u001b[0m \u001b[1;33m**\u001b[0m\u001b[0mkwargs\u001b[0m\u001b[1;33m)\u001b[0m \u001b[1;32mas\u001b[0m \u001b[0mprocess\u001b[0m\u001b[1;33m:\u001b[0m\u001b[1;33m\u001b[0m\u001b[1;33m\u001b[0m\u001b[0m\n\u001b[0m\u001b[0;32m    506\u001b[0m         \u001b[1;32mtry\u001b[0m\u001b[1;33m:\u001b[0m\u001b[1;33m\u001b[0m\u001b[1;33m\u001b[0m\u001b[0m\n\u001b[0;32m    507\u001b[0m             \u001b[0mstdout\u001b[0m\u001b[1;33m,\u001b[0m \u001b[0mstderr\u001b[0m \u001b[1;33m=\u001b[0m \u001b[0mprocess\u001b[0m\u001b[1;33m.\u001b[0m\u001b[0mcommunicate\u001b[0m\u001b[1;33m(\u001b[0m\u001b[0minput\u001b[0m\u001b[1;33m,\u001b[0m \u001b[0mtimeout\u001b[0m\u001b[1;33m=\u001b[0m\u001b[0mtimeout\u001b[0m\u001b[1;33m)\u001b[0m\u001b[1;33m\u001b[0m\u001b[1;33m\u001b[0m\u001b[0m\n",
      "\u001b[1;32m~\\anaconda3\\lib\\subprocess.py\u001b[0m in \u001b[0;36m__init__\u001b[1;34m(self, args, bufsize, executable, stdin, stdout, stderr, preexec_fn, close_fds, shell, cwd, env, universal_newlines, startupinfo, creationflags, restore_signals, start_new_session, pass_fds, user, group, extra_groups, encoding, errors, text, umask)\u001b[0m\n\u001b[0;32m    949\u001b[0m                             encoding=encoding, errors=errors)\n\u001b[0;32m    950\u001b[0m \u001b[1;33m\u001b[0m\u001b[0m\n\u001b[1;32m--> 951\u001b[1;33m             self._execute_child(args, executable, preexec_fn, close_fds,\n\u001b[0m\u001b[0;32m    952\u001b[0m                                 \u001b[0mpass_fds\u001b[0m\u001b[1;33m,\u001b[0m \u001b[0mcwd\u001b[0m\u001b[1;33m,\u001b[0m \u001b[0menv\u001b[0m\u001b[1;33m,\u001b[0m\u001b[1;33m\u001b[0m\u001b[1;33m\u001b[0m\u001b[0m\n\u001b[0;32m    953\u001b[0m                                 \u001b[0mstartupinfo\u001b[0m\u001b[1;33m,\u001b[0m \u001b[0mcreationflags\u001b[0m\u001b[1;33m,\u001b[0m \u001b[0mshell\u001b[0m\u001b[1;33m,\u001b[0m\u001b[1;33m\u001b[0m\u001b[1;33m\u001b[0m\u001b[0m\n",
      "\u001b[1;32m~\\anaconda3\\lib\\subprocess.py\u001b[0m in \u001b[0;36m_execute_child\u001b[1;34m(self, args, executable, preexec_fn, close_fds, pass_fds, cwd, env, startupinfo, creationflags, shell, p2cread, p2cwrite, c2pread, c2pwrite, errread, errwrite, unused_restore_signals, unused_gid, unused_gids, unused_uid, unused_umask, unused_start_new_session)\u001b[0m\n\u001b[0;32m   1418\u001b[0m             \u001b[1;31m# Start the process\u001b[0m\u001b[1;33m\u001b[0m\u001b[1;33m\u001b[0m\u001b[0m\n\u001b[0;32m   1419\u001b[0m             \u001b[1;32mtry\u001b[0m\u001b[1;33m:\u001b[0m\u001b[1;33m\u001b[0m\u001b[1;33m\u001b[0m\u001b[0m\n\u001b[1;32m-> 1420\u001b[1;33m                 hp, ht, pid, tid = _winapi.CreateProcess(executable, args,\n\u001b[0m\u001b[0;32m   1421\u001b[0m                                          \u001b[1;31m# no special security\u001b[0m\u001b[1;33m\u001b[0m\u001b[1;33m\u001b[0m\u001b[0m\n\u001b[0;32m   1422\u001b[0m                                          \u001b[1;32mNone\u001b[0m\u001b[1;33m,\u001b[0m \u001b[1;32mNone\u001b[0m\u001b[1;33m,\u001b[0m\u001b[1;33m\u001b[0m\u001b[1;33m\u001b[0m\u001b[0m\n",
      "\u001b[1;31mFileNotFoundError\u001b[0m: [WinError 2] The system cannot find the file specified"
     ]
    }
   ],
   "source": [
    "from subprocess import check_output\n",
    "print(check_output([\"ls\", r\"D:\\Projects\\Instacart product recommendation\\Data\"]).decode(\"utf8\"))"
   ]
  }
 ],
 "metadata": {
  "kernelspec": {
   "display_name": "Python 3 (ipykernel)",
   "language": "python",
   "name": "python3"
  },
  "language_info": {
   "codemirror_mode": {
    "name": "ipython",
    "version": 3
   },
   "file_extension": ".py",
   "mimetype": "text/x-python",
   "name": "python",
   "nbconvert_exporter": "python",
   "pygments_lexer": "ipython3",
   "version": "3.9.12"
  }
 },
 "nbformat": 4,
 "nbformat_minor": 5
}
